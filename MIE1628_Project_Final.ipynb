{
 "cells": [
  {
   "cell_type": "code",
   "execution_count": 1,
   "metadata": {},
   "outputs": [
    {
     "data": {
      "text/html": [
       "<style scoped>\n",
       "  .ansiout {\n",
       "    display: block;\n",
       "    unicode-bidi: embed;\n",
       "    white-space: pre-wrap;\n",
       "    word-wrap: break-word;\n",
       "    word-break: break-all;\n",
       "    font-family: \"Source Code Pro\", \"Menlo\", monospace;;\n",
       "    font-size: 13px;\n",
       "    color: #555;\n",
       "    margin-left: 4px;\n",
       "    line-height: 19px;\n",
       "  }\n",
       "</style>\n",
       "<div class=\"ansiout\"></div>"
      ]
     },
     "metadata": {},
     "output_type": "display_data"
    }
   ],
   "source": [
    "# -*- coding: utf-8 -*-\n",
    "\"\"\"\n",
    "\"\"\"\n",
    "import pandas as pd\n",
    "pd.core.common.is_list_like = pd.api.types.is_list_like #datareader problem probably fixed in next version of datareader\n",
    "from pandas_datareader import data as pdr\n",
    "import datetime\n",
    "import pyspark\n",
    "from pyspark.sql import SparkSession\n",
    "from pyspark.sql.types import *\n",
    "import pyspark.sql.functions as sf\n",
    "from pyspark.sql.window import Window\n",
    "import numpy as np\n",
    "import fix_yahoo_finance as yf\n",
    "from math import log\n",
    "from pyspark.ml import Pipeline\n",
    "from pyspark.ml.feature import OneHotEncoder, StringIndexer, VectorAssembler\n",
    "from pyspark.ml.regression import LinearRegression\n",
    "from pyspark.ml.evaluation import RegressionEvaluator\n",
    "from pyspark.ml.tuning import ParamGridBuilder, TrainValidationSplit\n",
    "from pyspark.ml.regression import DecisionTreeRegressor\n",
    "from pyspark.ml.regression import GBTRegressor\n",
    "import matplotlib.pyplot as plt\n",
    "from pyspark.ml.regression import DecisionTreeRegressor\n"
   ]
  },
  {
   "cell_type": "code",
   "execution_count": 2,
   "metadata": {},
   "outputs": [
    {
     "data": {
      "text/html": [
       "<style scoped>\n",
       "  .ansiout {\n",
       "    display: block;\n",
       "    unicode-bidi: embed;\n",
       "    white-space: pre-wrap;\n",
       "    word-wrap: break-word;\n",
       "    word-break: break-all;\n",
       "    font-family: \"Source Code Pro\", \"Menlo\", monospace;;\n",
       "    font-size: 13px;\n",
       "    color: #555;\n",
       "    margin-left: 4px;\n",
       "    line-height: 19px;\n",
       "  }\n",
       "</style>\n",
       "<div class=\"ansiout\">\r",
       "[                       0%                       ]\r",
       "[*********************100%***********************]  1 of 1 downloaded\n",
       "</div>"
      ]
     },
     "metadata": {},
     "output_type": "display_data"
    }
   ],
   "source": [
    "yf.pdr_override() # <== that's all it takes :-)\n",
    "\n",
    "\n",
    "start_date=datetime.date(1980, 12, 12)\n",
    "end_date= datetime.date(2018, 1, 1)\n",
    "\n",
    "stock_list = [\"AAPL\"]\n",
    "\n",
    "stock_str = \"\"\n",
    "for i in range(len(stock_list)):\n",
    "    stock_str  = stock_str + stock_list[i] + \".\"\n",
    "\n",
    "main_df = pd.DataFrame()\n",
    "\n",
    "for stock in range(len(stock_list)):\n",
    "     df = pdr.get_data_yahoo(stock_list[stock], start=start_date, end=end_date)\n",
    "     #df.drop(['Close','High', 'Low' , 'Open', 'Volume'], axis=1, inplace=True)\n",
    "     df.rename(columns={'Adj Close': 'Adj_close'}, inplace=True)\n",
    "     if main_df.empty:\n",
    "         main_df = df\n",
    "     else:\n",
    "        main_df = main_df.join(df) \n",
    "           \n",
    "#main_df[\"Date\"]=main_df.index\n",
    "main_df.reset_index(level=0, inplace=True)"
   ]
  },
  {
   "cell_type": "code",
   "execution_count": 3,
   "metadata": {},
   "outputs": [
    {
     "data": {
      "text/html": [
       "<style scoped>\n",
       "  .ansiout {\n",
       "    display: block;\n",
       "    unicode-bidi: embed;\n",
       "    white-space: pre-wrap;\n",
       "    word-wrap: break-word;\n",
       "    word-break: break-all;\n",
       "    font-family: \"Source Code Pro\", \"Menlo\", monospace;;\n",
       "    font-size: 13px;\n",
       "    color: #555;\n",
       "    margin-left: 4px;\n",
       "    line-height: 19px;\n",
       "  }\n",
       "</style>\n",
       "<div class=\"ansiout\">+-------------------+--------+--------+-------------------+-------------------+--------------------+---------+------+\n",
       "               Date|    Open|    High|                Low|              Close|           Adj_close|   Volume|ticker|\n",
       "+-------------------+--------+--------+-------------------+-------------------+--------------------+---------+------+\n",
       "1980-12-12 00:00:00|0.513393|0.515625|           0.513393|           0.513393|            0.023007|117258400|  AAPL|\n",
       "1980-12-15 00:00:00|0.488839|0.488839|0.48660699999999996|0.48660699999999996|            0.021807| 43971200|  AAPL|\n",
       "1980-12-16 00:00:00|0.453125|0.453125|0.45089300000000004|0.45089300000000004|0.020206000000000002| 26432000|  AAPL|\n",
       "1980-12-17 00:00:00|0.462054|0.464286|           0.462054|           0.462054|            0.020706| 21610400|  AAPL|\n",
       "1980-12-18 00:00:00|0.475446|0.477679|           0.475446|           0.475446|            0.021307| 18362400|  AAPL|\n",
       "1980-12-19 00:00:00|0.504464|0.506696|           0.504464|           0.504464|            0.022607| 12157600|  AAPL|\n",
       "1980-12-22 00:00:00|0.529018| 0.53125|           0.529018|           0.529018|            0.023707|  9340800|  AAPL|\n",
       "1980-12-23 00:00:00|0.551339|0.553571|           0.551339|           0.551339|            0.024708| 11737600|  AAPL|\n",
       "1980-12-24 00:00:00|0.580357|0.582589|           0.580357|           0.580357|            0.026008| 12000800|  AAPL|\n",
       "1980-12-26 00:00:00|0.633929|0.636161|           0.633929|           0.633929|0.028408999999999997| 13893600|  AAPL|\n",
       "+-------------------+--------+--------+-------------------+-------------------+--------------------+---------+------+\n",
       "only showing top 10 rows\n",
       "\n",
       "</div>"
      ]
     },
     "metadata": {},
     "output_type": "display_data"
    }
   ],
   "source": [
    "df = spark.createDataFrame(df)\n",
    "df = df.withColumn(\"ticker\", sf.lit(\"AAPL\"))\n",
    "df.show(10)"
   ]
  },
  {
   "cell_type": "code",
   "execution_count": 4,
   "metadata": {},
   "outputs": [
    {
     "data": {
      "text/html": [
       "<style scoped>\n",
       "  .ansiout {\n",
       "    display: block;\n",
       "    unicode-bidi: embed;\n",
       "    white-space: pre-wrap;\n",
       "    word-wrap: break-word;\n",
       "    word-break: break-all;\n",
       "    font-family: \"Source Code Pro\", \"Menlo\", monospace;;\n",
       "    font-size: 13px;\n",
       "    color: #555;\n",
       "    margin-left: 4px;\n",
       "    line-height: 19px;\n",
       "  }\n",
       "</style>\n",
       "<div class=\"ansiout\"></div>"
      ]
     },
     "metadata": {},
     "output_type": "display_data"
    }
   ],
   "source": [
    "w = Window().partitionBy(\"ticker\").orderBy(\"date\")\n",
    "df = df.withColumn(\"Log_Adj_Close\", sf.log(\"Adj_close\"))\n",
    "\n",
    "#Predictions\n",
    "df = df.withColumn(\"pred_daily\", sf.lag(\"Log_Adj_Close\", -1).over(w))\n",
    "df = df.withColumn(\"pred_weekly\", sf.lag(\"Log_Adj_Close\", -5).over(w))\n",
    "df = df.withColumn(\"pred_biweekly\", sf.lag(\"Log_Adj_Close\", -10).over(w))\n",
    "df = df.withColumn(\"pred_monthly\", sf.lag(\"Log_Adj_Close\", -21).over(w))\n",
    "df = df.withColumn(\"pred_quarterly\", sf.lag(\"Log_Adj_Close\", -84).over(w))\n",
    "df = df.withColumn(\"pred_annually\", sf.lag(\"Log_Adj_Close\", -252).over(w))\n",
    "\n",
    "#Normalize data\n",
    "df = df.withColumn(\"log_open\", sf.log(\"Open\"))\n",
    "df = df.withColumn(\"log_high\", sf.log(\"High\"))\n",
    "df = df.withColumn(\"log_low\", sf.log(\"Low\"))\n",
    "df = df.withColumn(\"Volume\", sf.log(\"Volume\"))\n",
    "\n",
    "#Returns\n",
    "df = df.withColumn(\"log_return\", -1* (sf.col(\"Log_Adj_Close\") - sf.lag(\"Log_Adj_Close\", 1).over(w)) / sf.lag(\"Log_Adj_Close\", 5).over(w))\n",
    "df = df.withColumn(\"weekly_log_return\", -1* (sf.col(\"Log_Adj_Close\") - sf.lag(\"Log_Adj_Close\", 5).over(w)) / sf.lag(\"Log_Adj_Close\", 10).over(w))\n",
    "df = df.withColumn(\"biweekly_log_return\", -1* (sf.col(\"Log_Adj_Close\") - sf.lag(\"Log_Adj_Close\", 10).over(w)) / sf.lag(\"Log_Adj_Close\", 21).over(w))\n",
    "df = df.withColumn(\"monthly_log_return\", -1* (sf.col(\"Log_Adj_Close\") - sf.lag(\"Log_Adj_Close\", 21).over(w)) / sf.lag(\"Log_Adj_Close\", 42).over(w))\n",
    "df = df.withColumn(\"quarterly_log_return\", -1* (sf.col(\"Log_Adj_Close\") - sf.lag(\"Log_Adj_Close\", 84).over(w)) / sf.lag(\"Log_Adj_Close\", 84).over(w))\n",
    "df = df.withColumn(\"annual_log_return\", -1* (sf.col(\"Log_Adj_Close\") - sf.lag(\"Log_Adj_Close\", 252).over(w)) / sf.lag(\"Log_Adj_Close\", 252).over(w))\n",
    "\n",
    "#Volume\n",
    "df = df.withColumn(\"daily_volume_diff\", (sf.col(\"Volume\") - sf.lag(\"Volume\", 1).over(w))) \n",
    "df = df.withColumn(\"weekly_volume_diff\", (sf.col(\"Volume\") - sf.lag(\"Volume\", 5).over(w))) \n",
    "df = df.withColumn(\"biweekly_volume_diff\", (sf.col(\"Volume\") - sf.lag(\"Volume\", 10).over(w))) \n",
    "df = df.withColumn(\"monthly_volume_diff\", (sf.col(\"Volume\") - sf.lag(\"Volume\", 21).over(w))) \n",
    "df = df.withColumn(\"quarterly_volume_diff\", (sf.col(\"Volume\") - sf.lag(\"Volume\", 84).over(w))) \n",
    "df = df.withColumn(\"annual_volume_diff\", (sf.col(\"Volume\") - sf.lag(\"Volume\", 252).over(w))) \n",
    "\n",
    "#Everything else\n",
    "w = Window.orderBy('Date').rowsBetween(-5, 0)\n",
    "df = df.withColumn(\"weekly_mean\", sf.avg('log_return').over(w))\n",
    "df = df.withColumn(\"weekly_std\", sf.stddev('log_return').over(w))\n",
    "df = df.withColumn(\"weekly_volume_mean\", sf.avg('Volume').over(w))\n",
    "df = df.withColumn(\"weekly_volume_std\", sf.stddev('Volume').over(w))\n",
    "\n",
    "w = Window.orderBy('Date').rowsBetween(-10, 0)\n",
    "df = df.withColumn(\"biweekly_mean\", sf.avg('log_return').over(w))\n",
    "df = df.withColumn(\"biweekly_std\", sf.stddev('log_return').over(w))\n",
    "df = df.withColumn(\"biweekly_volume_mean\", sf.avg('Volume').over(w))\n",
    "df = df.withColumn(\"biweekly_volume_std\", sf.stddev('Volume').over(w))\n",
    "\n",
    "w = Window.orderBy('Date').rowsBetween(-21, 0)\n",
    "df = df.withColumn(\"monthly_mean\", sf.avg('log_return').over(w))\n",
    "df = df.withColumn(\"monthly_std\", sf.stddev('log_return').over(w))\n",
    "df = df.withColumn(\"monthly_volume_mean\", sf.avg('Volume').over(w))\n",
    "df = df.withColumn(\"monthly_volume_std\", sf.stddev('Volume').over(w))\n",
    "\n",
    "w = Window.orderBy('Date').rowsBetween(-84, 0)\n",
    "df = df.withColumn(\"quarterly_mean\", sf.avg('log_return').over(w))\n",
    "df = df.withColumn(\"quarterly_std\", sf.stddev('log_return').over(w))\n",
    "df = df.withColumn(\"quarterly_volume_mean\", sf.avg('Volume').over(w))\n",
    "df = df.withColumn(\"quarterly_volume_std\", sf.stddev('Volume').over(w))\n",
    "\n",
    "w = Window.orderBy('Date').rowsBetween(-126, 0)\n",
    "df = df.withColumn(\"semiannual_mean\", sf.avg('log_return').over(w))\n",
    "df = df.withColumn(\"semiannual_std\", sf.stddev('log_return').over(w))\n",
    "df = df.withColumn(\"semiannual_volume_mean\", sf.avg('Volume').over(w))\n",
    "df = df.withColumn(\"semiannual_volume_std\", sf.stddev('Volume').over(w))\n",
    "\n",
    "w = Window.orderBy('Date').rowsBetween(-252, 0)\n",
    "df = df.withColumn(\"annual_mean\", sf.avg('log_return').over(w))\n",
    "df = df.withColumn(\"annual_std\", sf.stddev('log_return').over(w))\n",
    "df = df.withColumn(\"annual_volume_mean\", sf.avg('Volume').over(w))\n",
    "df = df.withColumn(\"annual_volume_std\", sf.stddev('Volume').over(w))\n",
    "\n",
    "#Custom\n",
    "w = Window.orderBy('Date').rowsBetween(-1, 0)\n",
    "df = df.withColumn(\"daily_mean\", sf.avg('log_return').over(w))\n",
    "\n",
    "w = Window.orderBy('Date').rowsBetween(-84, 0)\n",
    "df = df.withColumn(\"quarterly_mean\", sf.avg('log_return').over(w))\n",
    "\n",
    "df=df.drop(\"ticker\", \"Close\", \"Adj_close\", \"Open\", \"High\", \"Low\", \"Volume\")"
   ]
  },
  {
   "cell_type": "code",
   "execution_count": 5,
   "metadata": {},
   "outputs": [
    {
     "data": {
      "text/html": [
       "<style scoped>\n",
       "  .ansiout {\n",
       "    display: block;\n",
       "    unicode-bidi: embed;\n",
       "    white-space: pre-wrap;\n",
       "    word-wrap: break-word;\n",
       "    word-break: break-all;\n",
       "    font-family: \"Source Code Pro\", \"Menlo\", monospace;;\n",
       "    font-size: 13px;\n",
       "    color: #555;\n",
       "    margin-left: 4px;\n",
       "    line-height: 19px;\n",
       "  }\n",
       "</style>\n",
       "<div class=\"ansiout\"></div>"
      ]
     },
     "metadata": {},
     "output_type": "display_data"
    }
   ],
   "source": [
    "# df2 = df.select('Date', sf.date_format('Date', 'u').alias('dow'), sf.date_format('Date', 'd').alias('day'), sf.date_format('Date', 'D').alias('doy'), sf.date_format('Date', 'W').alias('wom'), sf.date_format('Date', 'L').alias('moy'), sf.date_format('Date', 'w').alias('woy')) #, date_format('Date', 'E').alias('day'))\n",
    "# df3=df2.orderBy(\"Date\")\n",
    "\n",
    "\n",
    "# indexers = [StringIndexer(inputCol=column, outputCol=column+\"_index\") for column in list(set(df3.columns)-set([\"Date\"]))]\n",
    "# one_hot = [OneHotEncoder(inputCol= column +\"_index\", outputCol= column + \"_one_hot\") for column in list(set(df3.columns)-set([\"Date\"]))]\n",
    "\n",
    "# pipeline = Pipeline(stages=indexers +one_hot )\n",
    "# df_r = pipeline.fit(df3).transform(df3)\n",
    "\n",
    "# df_hot = df_r.select('Date','moy_one_hot', 'wom_one_hot', 'doy_one_hot', 'woy_one_hot', 'day_one_hot', 'dow_one_hot')\n",
    "\n",
    "# df = df.join(df_hot, \"Date\")\n",
    "\n"
   ]
  },
  {
   "cell_type": "code",
   "execution_count": 6,
   "metadata": {},
   "outputs": [
    {
     "data": {
      "text/html": [
       "<style scoped>\n",
       "  .ansiout {\n",
       "    display: block;\n",
       "    unicode-bidi: embed;\n",
       "    white-space: pre-wrap;\n",
       "    word-wrap: break-word;\n",
       "    word-break: break-all;\n",
       "    font-family: \"Source Code Pro\", \"Menlo\", monospace;;\n",
       "    font-size: 13px;\n",
       "    color: #555;\n",
       "    margin-left: 4px;\n",
       "    line-height: 19px;\n",
       "  }\n",
       "</style>\n",
       "<div class=\"ansiout\"></div>"
      ]
     },
     "metadata": {},
     "output_type": "display_data"
    }
   ],
   "source": [
    "df = df.na.drop()"
   ]
  },
  {
   "cell_type": "code",
   "execution_count": 7,
   "metadata": {},
   "outputs": [
    {
     "data": {
      "text/html": [
       "<style scoped>\n",
       "  .ansiout {\n",
       "    display: block;\n",
       "    unicode-bidi: embed;\n",
       "    white-space: pre-wrap;\n",
       "    word-wrap: break-word;\n",
       "    word-break: break-all;\n",
       "    font-family: \"Source Code Pro\", \"Menlo\", monospace;;\n",
       "    font-size: 13px;\n",
       "    color: #555;\n",
       "    margin-left: 4px;\n",
       "    line-height: 19px;\n",
       "  }\n",
       "</style>\n",
       "<div class=\"ansiout\"></div>"
      ]
     },
     "metadata": {},
     "output_type": "display_data"
    }
   ],
   "source": [
    "assembler = VectorAssembler(inputCols=['Log_Adj_Close',\n",
    "                                           'log_open',\n",
    "                                           'log_high',\n",
    "                                           'log_low',\n",
    "                                           'log_return',\n",
    "                                           'weekly_log_return',\n",
    "                                           'biweekly_log_return',\n",
    "                                           'monthly_log_return',\n",
    "                                           'quarterly_log_return',\n",
    "                                           'annual_log_return',\n",
    "                                           'daily_volume_diff',\n",
    "                                           'weekly_volume_diff',\n",
    "                                           'biweekly_volume_diff',\n",
    "                                           'monthly_volume_diff',\n",
    "                                           'quarterly_volume_diff',\n",
    "                                           'annual_volume_diff',\n",
    "                                           'weekly_mean',\n",
    "                                           'weekly_std',\n",
    "                                           'weekly_volume_mean',\n",
    "                                           'weekly_volume_std',\n",
    "                                           'biweekly_mean',\n",
    "                                           'biweekly_std',\n",
    "                                           'biweekly_volume_mean',\n",
    "                                           'biweekly_volume_std',\n",
    "                                           'monthly_mean',\n",
    "                                           'monthly_std',\n",
    "                                           'monthly_volume_mean',\n",
    "                                           'monthly_volume_std',\n",
    "                                           'quarterly_mean',\n",
    "                                           'quarterly_std',\n",
    "                                           'quarterly_volume_mean',\n",
    "                                           'quarterly_volume_std',\n",
    "                                           'semiannual_mean',\n",
    "                                           'semiannual_std',\n",
    "                                           'semiannual_volume_mean',\n",
    "                                           'semiannual_volume_std',\n",
    "                                           'annual_mean',\n",
    "                                           'annual_std',\n",
    "                                           'annual_volume_mean',\n",
    "                                           'annual_volume_std',\n",
    "                                           'daily_mean'\n",
    "                                            ], outputCol=\"features\")\n",
    "output = assembler.transform(df)\n",
    "df = output.select('Date',\n",
    "                   'features',\n",
    "                   'pred_daily',\n",
    "                   'pred_weekly',\n",
    "                   'pred_biweekly',\n",
    "                   'pred_monthly',\n",
    "                   'pred_quarterly',\n",
    "                   'pred_annually')"
   ]
  },
  {
   "cell_type": "code",
   "execution_count": 8,
   "metadata": {},
   "outputs": [
    {
     "data": {
      "text/html": [
       "<style scoped>\n",
       "  .ansiout {\n",
       "    display: block;\n",
       "    unicode-bidi: embed;\n",
       "    white-space: pre-wrap;\n",
       "    word-wrap: break-word;\n",
       "    word-break: break-all;\n",
       "    font-family: \"Source Code Pro\", \"Menlo\", monospace;;\n",
       "    font-size: 13px;\n",
       "    color: #555;\n",
       "    margin-left: 4px;\n",
       "    line-height: 19px;\n",
       "  }\n",
       "</style>\n",
       "<div class=\"ansiout\"></div>"
      ]
     },
     "metadata": {},
     "output_type": "display_data"
    }
   ],
   "source": [
    "w = Window.partitionBy().orderBy(\"Date\")\n",
    "\n",
    "df_final = df.withColumn(\"rank\", sf.percent_rank().over(w))\n",
    "\n",
    "df_final=df_final.where('rank > 0.027' )\n",
    "\n",
    "test_df = df_final.where(\"rank >= .7\").drop(\"rank\")\n",
    "#test_df.show()\n",
    "\n",
    "train_df = df_final.where(\"rank < .7\").drop(\"rank\")"
   ]
  },
  {
   "cell_type": "code",
   "execution_count": 9,
   "metadata": {},
   "outputs": [
    {
     "data": {
      "text/html": [
       "<style scoped>\n",
       "  .ansiout {\n",
       "    display: block;\n",
       "    unicode-bidi: embed;\n",
       "    white-space: pre-wrap;\n",
       "    word-wrap: break-word;\n",
       "    word-break: break-all;\n",
       "    font-family: \"Source Code Pro\", \"Menlo\", monospace;;\n",
       "    font-size: 13px;\n",
       "    color: #555;\n",
       "    margin-left: 4px;\n",
       "    line-height: 19px;\n",
       "  }\n",
       "</style>\n",
       "<div class=\"ansiout\"></div>"
      ]
     },
     "metadata": {},
     "output_type": "display_data"
    }
   ],
   "source": [
    "train_df = train_df.drop('Date')\n",
    "test_df = test_df.drop('Date')"
   ]
  },
  {
   "cell_type": "code",
   "execution_count": 10,
   "metadata": {},
   "outputs": [
    {
     "data": {
      "text/html": [
       "<style scoped>\n",
       "  .ansiout {\n",
       "    display: block;\n",
       "    unicode-bidi: embed;\n",
       "    white-space: pre-wrap;\n",
       "    word-wrap: break-word;\n",
       "    word-break: break-all;\n",
       "    font-family: \"Source Code Pro\", \"Menlo\", monospace;;\n",
       "    font-size: 13px;\n",
       "    color: #555;\n",
       "    margin-left: 4px;\n",
       "    line-height: 19px;\n",
       "  }\n",
       "</style>\n",
       "<div class=\"ansiout\"></div>"
      ]
     },
     "metadata": {},
     "output_type": "display_data"
    }
   ],
   "source": [
    "def smape(A, F):\n",
    "    return 100/len(A) * np.sum(2 * np.abs(F - A) / (np.abs(A) + np.abs(F)))"
   ]
  },
  {
   "cell_type": "code",
   "execution_count": 11,
   "metadata": {},
   "outputs": [
    {
     "data": {
      "text/html": [
       "<style scoped>\n",
       "  .ansiout {\n",
       "    display: block;\n",
       "    unicode-bidi: embed;\n",
       "    white-space: pre-wrap;\n",
       "    word-wrap: break-word;\n",
       "    word-break: break-all;\n",
       "    font-family: \"Source Code Pro\", \"Menlo\", monospace;;\n",
       "    font-size: 13px;\n",
       "    color: #555;\n",
       "    margin-left: 4px;\n",
       "    line-height: 19px;\n",
       "  }\n",
       "</style>\n",
       "<div class=\"ansiout\"></div>"
      ]
     },
     "metadata": {},
     "output_type": "display_data"
    }
   ],
   "source": [
    "lr = LinearRegression(maxIter=10)\n",
    "\n",
    "# We use a ParamGridBuilder to construct a grid of parameters to search over.\n",
    "# TrainValidationSplit will try all combinations of values and determine best model using\n",
    "# the evaluator.\n",
    "paramGrid = ParamGridBuilder()\\\n",
    "    .addGrid(lr.regParam, [0.1, 0.01]) \\\n",
    "    .addGrid(lr.fitIntercept, [False, True])\\\n",
    "    .addGrid(lr.elasticNetParam, [0.0, 0.5, 1.0])\\\n",
    "    .build()\n",
    "\n",
    "tvs = TrainValidationSplit(estimator=lr,\n",
    "                           estimatorParamMaps=paramGrid,\n",
    "                           evaluator=RegressionEvaluator(),\n",
    "                           # 80% of the data will be used for training, 20% for validation.\n",
    "                           trainRatio=0.8)\n",
    "\n"
   ]
  },
  {
   "cell_type": "code",
   "execution_count": 12,
   "metadata": {},
   "outputs": [
    {
     "data": {
      "text/html": [
       "<style scoped>\n",
       "  .ansiout {\n",
       "    display: block;\n",
       "    unicode-bidi: embed;\n",
       "    white-space: pre-wrap;\n",
       "    word-wrap: break-word;\n",
       "    word-break: break-all;\n",
       "    font-family: \"Source Code Pro\", \"Menlo\", monospace;;\n",
       "    font-size: 13px;\n",
       "    color: #555;\n",
       "    margin-left: 4px;\n",
       "    line-height: 19px;\n",
       "  }\n",
       "</style>\n",
       "<div class=\"ansiout\">RMSE on test data = 0.037451\n",
       "</div>"
      ]
     },
     "metadata": {},
     "output_type": "display_data"
    }
   ],
   "source": [
    "train_df_daily = train_df.withColumnRenamed(\"pred_daily\", \"label\").select(\"features\", \"label\")\n",
    "test_df_daily = test_df.withColumnRenamed(\"pred_daily\", \"label\").select(\"features\", \"label\")\n",
    "# Run TrainValidationSplit, and choose the best set of parameters.\n",
    "model = tvs.fit(train_df_daily)\n",
    "\n",
    "# Make predictions on test data. model is the model with combination of parameters\n",
    "# that performed best.\n",
    "lr_predictions = model.transform(test_df_daily)\n",
    "\n",
    "lr_evaluator = RegressionEvaluator(predictionCol=\"prediction\", \\\n",
    "                 labelCol=\"label\",metricName=\"rmse\")\n",
    "print(\"RMSE on test data = %g\" % lr_evaluator.evaluate(lr_predictions))"
   ]
  },
  {
   "cell_type": "code",
   "execution_count": 13,
   "metadata": {},
   "outputs": [
    {
     "data": {
      "text/html": [
       "<style scoped>\n",
       "  .ansiout {\n",
       "    display: block;\n",
       "    unicode-bidi: embed;\n",
       "    white-space: pre-wrap;\n",
       "    word-wrap: break-word;\n",
       "    word-break: break-all;\n",
       "    font-family: \"Source Code Pro\", \"Menlo\", monospace;;\n",
       "    font-size: 13px;\n",
       "    color: #555;\n",
       "    margin-left: 4px;\n",
       "    line-height: 19px;\n",
       "  }\n",
       "</style>\n",
       "<div class=\"ansiout\">0.920450162717\n",
       "</div>"
      ]
     },
     "metadata": {},
     "output_type": "display_data"
    }
   ],
   "source": [
    "print(smape(np.array(lr_predictions.select('label').rdd.map(lambda row : row[0]).collect()), np.array(lr_predictions.select('prediction').rdd.map(lambda row : row[0]).collect())))"
   ]
  },
  {
   "cell_type": "code",
   "execution_count": 14,
   "metadata": {},
   "outputs": [
    {
     "data": {
      "text/html": [
       "<style scoped>\n",
       "  .ansiout {\n",
       "    display: block;\n",
       "    unicode-bidi: embed;\n",
       "    white-space: pre-wrap;\n",
       "    word-wrap: break-word;\n",
       "    word-break: break-all;\n",
       "    font-family: \"Source Code Pro\", \"Menlo\", monospace;;\n",
       "    font-size: 13px;\n",
       "    color: #555;\n",
       "    margin-left: 4px;\n",
       "    line-height: 19px;\n",
       "  }\n",
       "</style>\n",
       "<div class=\"ansiout\"><span class=\"ansired\">Out[</span><span class=\"ansired\">14</span><span class=\"ansired\">]: </span>DenseVector([0.9823, 0.0113, 0.0158, 0.0062, -0.0002, 0.0, -0.0, 0.0, 0.0, 0.0, -0.0, -0.0004, 0.0002, -0.0004, -0.0, 0.0011, 0.0003, -0.0, -0.0016, 0.0001, -0.0002, -0.0001, -0.0003, -0.0011, 0.0004, 0.0001, -0.0019, 0.0002, 0.0001, 0.0001, -0.0003, 0.0407, -0.0046, -0.0002, 0.0009, 0.0215, -0.0047, 0.0012, 0.001, -0.0408, 0.0001])\n",
       "</div>"
      ]
     },
     "metadata": {},
     "output_type": "display_data"
    }
   ],
   "source": [
    "model.bestModel.coefficients"
   ]
  },
  {
   "cell_type": "code",
   "execution_count": 15,
   "metadata": {},
   "outputs": [
    {
     "data": {
      "image/png": "[encoded data removed]"
     },
     "metadata": {},
     "output_type": "display_data"
    }
   ],
   "source": [
    "fig = plt.figure()\n",
    "ax = fig.add_subplot(111)\n",
    "ax.plot(lr_predictions.select('label').rdd.map(lambda row : row[0]).collect(), label='True Data')\n",
    "#Pad the list of predictions to shift it in the graph to it's correct start\n",
    "ax.plot(lr_predictions.select('prediction').rdd.map(lambda row : row[0]).collect(), label='Prediction')\n",
    "plt.legend()\n",
    "display(fig)"
   ]
  },
  {
   "cell_type": "code",
   "execution_count": 16,
   "metadata": {},
   "outputs": [
    {
     "data": {
      "text/html": [
       "<style scoped>\n",
       "  .ansiout {\n",
       "    display: block;\n",
       "    unicode-bidi: embed;\n",
       "    white-space: pre-wrap;\n",
       "    word-wrap: break-word;\n",
       "    word-break: break-all;\n",
       "    font-family: \"Source Code Pro\", \"Menlo\", monospace;;\n",
       "    font-size: 13px;\n",
       "    color: #555;\n",
       "    margin-left: 4px;\n",
       "    line-height: 19px;\n",
       "  }\n",
       "</style>\n",
       "<div class=\"ansiout\">RMSE on test data = 0.0520765\n",
       "</div>"
      ]
     },
     "metadata": {},
     "output_type": "display_data"
    }
   ],
   "source": [
    "train_df_weekly = train_df.withColumnRenamed(\"pred_weekly\", \"label\").select(\"features\", \"label\")\n",
    "test_df_weekly = test_df.withColumnRenamed(\"pred_weekly\", \"label\").select(\"features\", \"label\")\n",
    "# Run TrainValidationSplit, and choose the best set of parameters.\n",
    "model = tvs.fit(train_df_weekly)\n",
    "\n",
    "# Make predictions on test data. model is the model with combination of parameters\n",
    "# that performed best.\n",
    "lr_predictions = model.transform(test_df_weekly)\n",
    "\n",
    "lr_evaluator = RegressionEvaluator(predictionCol=\"prediction\", \\\n",
    "                 labelCol=\"label\",metricName=\"rmse\")\n",
    "print(\"RMSE on test data = %g\" % lr_evaluator.evaluate(lr_predictions))"
   ]
  },
  {
   "cell_type": "code",
   "execution_count": 17,
   "metadata": {},
   "outputs": [
    {
     "data": {
      "text/html": [
       "<style scoped>\n",
       "  .ansiout {\n",
       "    display: block;\n",
       "    unicode-bidi: embed;\n",
       "    white-space: pre-wrap;\n",
       "    word-wrap: break-word;\n",
       "    word-break: break-all;\n",
       "    font-family: \"Source Code Pro\", \"Menlo\", monospace;;\n",
       "    font-size: 13px;\n",
       "    color: #555;\n",
       "    margin-left: 4px;\n",
       "    line-height: 19px;\n",
       "  }\n",
       "</style>\n",
       "<div class=\"ansiout\">1.25692919107\n",
       "</div>"
      ]
     },
     "metadata": {},
     "output_type": "display_data"
    }
   ],
   "source": [
    "print(smape(np.array(lr_predictions.select('label').rdd.map(lambda row : row[0]).collect()), np.array(lr_predictions.select('prediction').rdd.map(lambda row : row[0]).collect())))"
   ]
  },
  {
   "cell_type": "code",
   "execution_count": 18,
   "metadata": {},
   "outputs": [
    {
     "data": {
      "text/html": [
       "<style scoped>\n",
       "  .ansiout {\n",
       "    display: block;\n",
       "    unicode-bidi: embed;\n",
       "    white-space: pre-wrap;\n",
       "    word-wrap: break-word;\n",
       "    word-break: break-all;\n",
       "    font-family: \"Source Code Pro\", \"Menlo\", monospace;;\n",
       "    font-size: 13px;\n",
       "    color: #555;\n",
       "    margin-left: 4px;\n",
       "    line-height: 19px;\n",
       "  }\n",
       "</style>\n",
       "<div class=\"ansiout\"><span class=\"ansired\">Out[</span><span class=\"ansired\">18</span><span class=\"ansired\">]: </span>DenseVector([0.9832, 0.0133, 0.0112, 0.0041, -0.0, -0.0001, -0.0, 0.0001, -0.0, -0.0, 0.0001, -0.0015, -0.0023, -0.0028, 0.0025, 0.0034, 0.0018, -0.0001, -0.0049, 0.0067, -0.0025, -0.0007, -0.0012, -0.0026, 0.0024, 0.0007, -0.0041, 0.0023, -0.0013, 0.0008, 0.0198, 0.0497, -0.0078, -0.0008, -0.0084, 0.0189, 0.0002, 0.0007, -0.0022, -0.0777, 0.0002])\n",
       "</div>"
      ]
     },
     "metadata": {},
     "output_type": "display_data"
    }
   ],
   "source": [
    "model.bestModel.coefficients"
   ]
  },
  {
   "cell_type": "code",
   "execution_count": 19,
   "metadata": {},
   "outputs": [
    {
     "data": {
      "image/png": "[encoded data removed]"
     },
     "metadata": {},
     "output_type": "display_data"
    }
   ],
   "source": [
    "fig = plt.figure()\n",
    "ax = fig.add_subplot(111)\n",
    "ax.plot(lr_predictions.select('label').rdd.map(lambda row : row[0]).collect(), label='True Data')\n",
    "#Pad the list of predictions to shift it in the graph to it's correct start\n",
    "ax.plot(lr_predictions.select('prediction').rdd.map(lambda row : row[0]).collect(), label='Prediction')\n",
    "plt.legend()\n",
    "display(fig)"
   ]
  },
  {
   "cell_type": "code",
   "execution_count": 20,
   "metadata": {},
   "outputs": [
    {
     "data": {
      "text/html": [
       "<style scoped>\n",
       "  .ansiout {\n",
       "    display: block;\n",
       "    unicode-bidi: embed;\n",
       "    white-space: pre-wrap;\n",
       "    word-wrap: break-word;\n",
       "    word-break: break-all;\n",
       "    font-family: \"Source Code Pro\", \"Menlo\", monospace;;\n",
       "    font-size: 13px;\n",
       "    color: #555;\n",
       "    margin-left: 4px;\n",
       "    line-height: 19px;\n",
       "  }\n",
       "</style>\n",
       "<div class=\"ansiout\">RMSE on test data = 0.0688204\n",
       "</div>"
      ]
     },
     "metadata": {},
     "output_type": "display_data"
    }
   ],
   "source": [
    "train_df_biweekly = train_df.withColumnRenamed(\"pred_biweekly\", \"label\").select(\"features\", \"label\")\n",
    "test_df_biweekly = test_df.withColumnRenamed(\"pred_biweekly\", \"label\").select(\"features\", \"label\")\n",
    "# Run TrainValidationSplit, and choose the best set of parameters.\n",
    "model = tvs.fit(train_df_biweekly)\n",
    "\n",
    "# Make predictions on test data. model is the model with combination of parameters\n",
    "# that performed best.\n",
    "lr_predictions = model.transform(test_df_biweekly)\n",
    "\n",
    "lr_evaluator = RegressionEvaluator(predictionCol=\"prediction\", \\\n",
    "                 labelCol=\"label\",metricName=\"rmse\")\n",
    "print(\"RMSE on test data = %g\" % lr_evaluator.evaluate(lr_predictions))"
   ]
  },
  {
   "cell_type": "code",
   "execution_count": 21,
   "metadata": {},
   "outputs": [
    {
     "data": {
      "text/html": [
       "<style scoped>\n",
       "  .ansiout {\n",
       "    display: block;\n",
       "    unicode-bidi: embed;\n",
       "    white-space: pre-wrap;\n",
       "    word-wrap: break-word;\n",
       "    word-break: break-all;\n",
       "    font-family: \"Source Code Pro\", \"Menlo\", monospace;;\n",
       "    font-size: 13px;\n",
       "    color: #555;\n",
       "    margin-left: 4px;\n",
       "    line-height: 19px;\n",
       "  }\n",
       "</style>\n",
       "<div class=\"ansiout\">1.67195174478\n",
       "</div>"
      ]
     },
     "metadata": {},
     "output_type": "display_data"
    }
   ],
   "source": [
    "print(smape(np.array(lr_predictions.select('label').rdd.map(lambda row : row[0]).collect()), np.array(lr_predictions.select('prediction').rdd.map(lambda row : row[0]).collect())))"
   ]
  },
  {
   "cell_type": "code",
   "execution_count": 22,
   "metadata": {},
   "outputs": [
    {
     "data": {
      "text/html": [
       "<style scoped>\n",
       "  .ansiout {\n",
       "    display: block;\n",
       "    unicode-bidi: embed;\n",
       "    white-space: pre-wrap;\n",
       "    word-wrap: break-word;\n",
       "    word-break: break-all;\n",
       "    font-family: \"Source Code Pro\", \"Menlo\", monospace;;\n",
       "    font-size: 13px;\n",
       "    color: #555;\n",
       "    margin-left: 4px;\n",
       "    line-height: 19px;\n",
       "  }\n",
       "</style>\n",
       "<div class=\"ansiout\"><span class=\"ansired\">Out[</span><span class=\"ansired\">22</span><span class=\"ansired\">]: </span>DenseVector([0.984, 0.0117, 0.0085, 0.0031, 0.0, -0.0001, 0.0, -0.0, -0.0001, -0.0, -0.0021, -0.0064, -0.0012, 0.0002, 0.0042, 0.0063, 0.0011, -0.0005, -0.0123, 0.0035, -0.0034, -0.0, -0.0059, 0.0023, 0.0057, 0.0007, -0.0007, 0.0093, -0.0081, 0.0019, 0.0396, 0.0894, 0.0001, -0.0018, -0.0088, 0.0117, 0.0009, 0.0, -0.0114, -0.1504, 0.0003])\n",
       "</div>"
      ]
     },
     "metadata": {},
     "output_type": "display_data"
    }
   ],
   "source": [
    "model.bestModel.coefficients"
   ]
  },
  {
   "cell_type": "code",
   "execution_count": 23,
   "metadata": {},
   "outputs": [
    {
     "data": {
      "image/png": "[encoded data removed]"
     },
     "metadata": {},
     "output_type": "display_data"
    }
   ],
   "source": [
    "fig = plt.figure()\n",
    "ax = fig.add_subplot(111)\n",
    "ax.plot(lr_predictions.select('label').rdd.map(lambda row : row[0]).collect(), label='True Data')\n",
    "#Pad the list of predictions to shift it in the graph to it's correct start\n",
    "ax.plot(lr_predictions.select('prediction').rdd.map(lambda row : row[0]).collect(), label='Prediction')\n",
    "plt.legend()\n",
    "display(fig)"
   ]
  },
  {
   "cell_type": "code",
   "execution_count": 24,
   "metadata": {},
   "outputs": [
    {
     "data": {
      "text/html": [
       "<style scoped>\n",
       "  .ansiout {\n",
       "    display: block;\n",
       "    unicode-bidi: embed;\n",
       "    white-space: pre-wrap;\n",
       "    word-wrap: break-word;\n",
       "    word-break: break-all;\n",
       "    font-family: \"Source Code Pro\", \"Menlo\", monospace;;\n",
       "    font-size: 13px;\n",
       "    color: #555;\n",
       "    margin-left: 4px;\n",
       "    line-height: 19px;\n",
       "  }\n",
       "</style>\n",
       "<div class=\"ansiout\">RMSE on test data = 0.147883\n",
       "</div>"
      ]
     },
     "metadata": {},
     "output_type": "display_data"
    }
   ],
   "source": [
    "train_df_monthly = train_df.withColumnRenamed(\"pred_monthly\", \"label\").select(\"features\", \"label\")\n",
    "test_df_monthly = test_df.withColumnRenamed(\"pred_monthly\", \"label\").select(\"features\", \"label\")\n",
    "# Run TrainValidationSplit, and choose the best set of parameters.\n",
    "model = tvs.fit(train_df_monthly)\n",
    "\n",
    "# Make predictions on test data. model is the model with combination of parameters\n",
    "# that performed best.\n",
    "lr_predictions = model.transform(test_df_monthly)\n",
    "\n",
    "lr_evaluator = RegressionEvaluator(predictionCol=\"prediction\", \\\n",
    "                 labelCol=\"label\",metricName=\"rmse\")\n",
    "print(\"RMSE on test data = %g\" % lr_evaluator.evaluate(lr_predictions))"
   ]
  },
  {
   "cell_type": "code",
   "execution_count": 25,
   "metadata": {},
   "outputs": [
    {
     "data": {
      "text/html": [
       "<style scoped>\n",
       "  .ansiout {\n",
       "    display: block;\n",
       "    unicode-bidi: embed;\n",
       "    white-space: pre-wrap;\n",
       "    word-wrap: break-word;\n",
       "    word-break: break-all;\n",
       "    font-family: \"Source Code Pro\", \"Menlo\", monospace;;\n",
       "    font-size: 13px;\n",
       "    color: #555;\n",
       "    margin-left: 4px;\n",
       "    line-height: 19px;\n",
       "  }\n",
       "</style>\n",
       "<div class=\"ansiout\">3.45382257459\n",
       "</div>"
      ]
     },
     "metadata": {},
     "output_type": "display_data"
    }
   ],
   "source": [
    "print(smape(np.array(lr_predictions.select('label').rdd.map(lambda row : row[0]).collect()), np.array(lr_predictions.select('prediction').rdd.map(lambda row : row[0]).collect())))"
   ]
  },
  {
   "cell_type": "code",
   "execution_count": 26,
   "metadata": {},
   "outputs": [
    {
     "data": {
      "text/html": [
       "<style scoped>\n",
       "  .ansiout {\n",
       "    display: block;\n",
       "    unicode-bidi: embed;\n",
       "    white-space: pre-wrap;\n",
       "    word-wrap: break-word;\n",
       "    word-break: break-all;\n",
       "    font-family: \"Source Code Pro\", \"Menlo\", monospace;;\n",
       "    font-size: 13px;\n",
       "    color: #555;\n",
       "    margin-left: 4px;\n",
       "    line-height: 19px;\n",
       "  }\n",
       "</style>\n",
       "<div class=\"ansiout\"><span class=\"ansired\">Out[</span><span class=\"ansired\">26</span><span class=\"ansired\">]: </span>DenseVector([0.9653, 0.0008, -0.0132, 0.0147, -0.0001, -0.0001, -0.0001, 0.0, -0.0001, -0.0, -0.0023, -0.008, -0.0035, -0.0014, 0.0129, 0.0036, 0.0001, -0.0004, -0.0124, 0.0188, 0.0002, 0.0018, 0.0096, 0.0197, 0.0011, -0.0002, -0.0283, 0.0119, 0.0037, 0.0051, 0.0494, 0.1818, 0.0142, -0.0053, 0.0559, 0.0852, 0.0557, -0.0016, 0.0348, -0.3678, 0.0001])\n",
       "</div>"
      ]
     },
     "metadata": {},
     "output_type": "display_data"
    }
   ],
   "source": [
    "model.bestModel.coefficients"
   ]
  },
  {
   "cell_type": "code",
   "execution_count": 27,
   "metadata": {},
   "outputs": [
    {
     "data": {
      "image/png": "[encoded data removed]"
     },
     "metadata": {},
     "output_type": "display_data"
    }
   ],
   "source": [
    "fig = plt.figure()\n",
    "ax = fig.add_subplot(111)\n",
    "ax.plot(lr_predictions.select('label').rdd.map(lambda row : row[0]).collect(), label='True Data')\n",
    "#Pad the list of predictions to shift it in the graph to it's correct start\n",
    "ax.plot(lr_predictions.select('prediction').rdd.map(lambda row : row[0]).collect(), label='Prediction')\n",
    "plt.legend()\n",
    "display(fig)"
   ]
  },
  {
   "cell_type": "code",
   "execution_count": 28,
   "metadata": {},
   "outputs": [
    {
     "data": {
      "text/html": [
       "<style scoped>\n",
       "  .ansiout {\n",
       "    display: block;\n",
       "    unicode-bidi: embed;\n",
       "    white-space: pre-wrap;\n",
       "    word-wrap: break-word;\n",
       "    word-break: break-all;\n",
       "    font-family: \"Source Code Pro\", \"Menlo\", monospace;;\n",
       "    font-size: 13px;\n",
       "    color: #555;\n",
       "    margin-left: 4px;\n",
       "    line-height: 19px;\n",
       "  }\n",
       "</style>\n",
       "<div class=\"ansiout\">RMSE on test data = 0.369251\n",
       "</div>"
      ]
     },
     "metadata": {},
     "output_type": "display_data"
    }
   ],
   "source": [
    "train_df_quarterly = train_df.withColumnRenamed(\"pred_quarterly\", \"label\").select(\"features\", \"label\")\n",
    "test_df_quarterly = test_df.withColumnRenamed(\"pred_quarterly\", \"label\").select(\"features\", \"label\")\n",
    "# Run TrainValidationSplit, and choose the best set of parameters.\n",
    "model = tvs.fit(train_df_quarterly)\n",
    "\n",
    "# Make predictions on test data. model is the model with combination of parameters\n",
    "# that performed best.\n",
    "lr_predictions = model.transform(test_df_monthly)\n",
    "\n",
    "lr_evaluator = RegressionEvaluator(predictionCol=\"prediction\", \\\n",
    "                 labelCol=\"label\",metricName=\"rmse\")\n",
    "print(\"RMSE on test data = %g\" % lr_evaluator.evaluate(lr_predictions))"
   ]
  },
  {
   "cell_type": "code",
   "execution_count": 29,
   "metadata": {},
   "outputs": [
    {
     "data": {
      "text/html": [
       "<style scoped>\n",
       "  .ansiout {\n",
       "    display: block;\n",
       "    unicode-bidi: embed;\n",
       "    white-space: pre-wrap;\n",
       "    word-wrap: break-word;\n",
       "    word-break: break-all;\n",
       "    font-family: \"Source Code Pro\", \"Menlo\", monospace;;\n",
       "    font-size: 13px;\n",
       "    color: #555;\n",
       "    margin-left: 4px;\n",
       "    line-height: 19px;\n",
       "  }\n",
       "</style>\n",
       "<div class=\"ansiout\">8.47258016375\n",
       "</div>"
      ]
     },
     "metadata": {},
     "output_type": "display_data"
    }
   ],
   "source": [
    "print(smape(np.array(lr_predictions.select('label').rdd.map(lambda row : row[0]).collect()), np.array(lr_predictions.select('prediction').rdd.map(lambda row : row[0]).collect())))"
   ]
  },
  {
   "cell_type": "code",
   "execution_count": 30,
   "metadata": {},
   "outputs": [
    {
     "data": {
      "text/html": [
       "<style scoped>\n",
       "  .ansiout {\n",
       "    display: block;\n",
       "    unicode-bidi: embed;\n",
       "    white-space: pre-wrap;\n",
       "    word-wrap: break-word;\n",
       "    word-break: break-all;\n",
       "    font-family: \"Source Code Pro\", \"Menlo\", monospace;;\n",
       "    font-size: 13px;\n",
       "    color: #555;\n",
       "    margin-left: 4px;\n",
       "    line-height: 19px;\n",
       "  }\n",
       "</style>\n",
       "<div class=\"ansiout\"><span class=\"ansired\">Out[</span><span class=\"ansired\">30</span><span class=\"ansired\">]: </span>DenseVector([0.9471, -0.0323, -0.0721, 0.0157, -0.0001, 0.0, -0.0009, -0.0004, 0.0001, -0.0, -0.0055, -0.0026, -0.005, -0.0005, -0.0002, 0.0254, 0.0009, -0.0007, 0.0041, -0.0249, -0.0098, 0.0004, 0.0052, 0.0496, -0.002, 0.0081, -0.0065, 0.0902, -0.0081, 0.0048, 0.0154, 0.2742, 0.0991, -0.0136, 0.259, 0.6376, 0.1841, -0.0075, 0.0263, -1.4562, 0.0005])\n",
       "</div>"
      ]
     },
     "metadata": {},
     "output_type": "display_data"
    }
   ],
   "source": [
    "model.bestModel.coefficients"
   ]
  },
  {
   "cell_type": "code",
   "execution_count": 31,
   "metadata": {},
   "outputs": [
    {
     "data": {
      "image/png": "[encoded data removed]"
     },
     "metadata": {},
     "output_type": "display_data"
    }
   ],
   "source": [
    "fig = plt.figure()\n",
    "ax = fig.add_subplot(111)\n",
    "ax.plot(lr_predictions.select('label').rdd.map(lambda row : row[0]).collect(), label='True Data')\n",
    "#Pad the list of predictions to shift it in the graph to it's correct start\n",
    "ax.plot(lr_predictions.select('prediction').rdd.map(lambda row : row[0]).collect(), label='Prediction')\n",
    "plt.legend()\n",
    "display(fig)"
   ]
  },
  {
   "cell_type": "code",
   "execution_count": 32,
   "metadata": {},
   "outputs": [
    {
     "data": {
      "text/html": [
       "<style scoped>\n",
       "  .ansiout {\n",
       "    display: block;\n",
       "    unicode-bidi: embed;\n",
       "    white-space: pre-wrap;\n",
       "    word-wrap: break-word;\n",
       "    word-break: break-all;\n",
       "    font-family: \"Source Code Pro\", \"Menlo\", monospace;;\n",
       "    font-size: 13px;\n",
       "    color: #555;\n",
       "    margin-left: 4px;\n",
       "    line-height: 19px;\n",
       "  }\n",
       "</style>\n",
       "<div class=\"ansiout\"></div>"
      ]
     },
     "metadata": {},
     "output_type": "display_data"
    }
   ],
   "source": [
    "gbt = GBTRegressor(maxIter=10)\n",
    "\n",
    "# We use a ParamGridBuilder to construct a grid of parameters to search over.\n",
    "# TrainValidationSplit will try all combinations of values and determine best model using\n",
    "# the evaluator.\n",
    "paramGrid = ParamGridBuilder()\\\n",
    "    .addGrid(gbt.featureSubsetStrategy, ['log2', 'all', 'onethird']) \\\n",
    "    .addGrid(gbt.lossType, ['squared', 'absolute'])\\\n",
    "    .build()\n",
    "\n",
    "tvs = TrainValidationSplit(estimator=gbt,\n",
    "                           estimatorParamMaps=paramGrid,\n",
    "                           evaluator=RegressionEvaluator(),\n",
    "                           # 80% of the data will be used for training, 20% for validation.\n",
    "                           trainRatio=0.8)\n"
   ]
  },
  {
   "cell_type": "code",
   "execution_count": 33,
   "metadata": {},
   "outputs": [
    {
     "data": {
      "text/html": [
       "<style scoped>\n",
       "  .ansiout {\n",
       "    display: block;\n",
       "    unicode-bidi: embed;\n",
       "    white-space: pre-wrap;\n",
       "    word-wrap: break-word;\n",
       "    word-break: break-all;\n",
       "    font-family: \"Source Code Pro\", \"Menlo\", monospace;;\n",
       "    font-size: 13px;\n",
       "    color: #555;\n",
       "    margin-left: 4px;\n",
       "    line-height: 19px;\n",
       "  }\n",
       "</style>\n",
       "<div class=\"ansiout\">RMSE on test data = 1.97131\n",
       "</div>"
      ]
     },
     "metadata": {},
     "output_type": "display_data"
    }
   ],
   "source": [
    "train_df_daily = train_df.withColumnRenamed(\"pred_daily\", \"label\").select(\"features\", \"label\")\n",
    "test_df_daily = test_df.withColumnRenamed(\"pred_daily\", \"label\").select(\"features\", \"label\")\n",
    "# Run TrainValidationSplit, and choose the best set of parameters.\n",
    "model = tvs.fit(train_df_daily)\n",
    "\n",
    "# Make predictions on test data. model is the model with combination of parameters\n",
    "# that performed best.\n",
    "gbt_predictions = model.transform(test_df_daily)\n",
    "\n",
    "gbt_evaluator = RegressionEvaluator(predictionCol=\"prediction\", \\\n",
    "                 labelCol=\"label\",metricName=\"rmse\")\n",
    "print(\"RMSE on test data = %g\" % gbt_evaluator.evaluate(gbt_predictions))"
   ]
  },
  {
   "cell_type": "code",
   "execution_count": 34,
   "metadata": {},
   "outputs": [
    {
     "data": {
      "text/html": [
       "<style scoped>\n",
       "  .ansiout {\n",
       "    display: block;\n",
       "    unicode-bidi: embed;\n",
       "    white-space: pre-wrap;\n",
       "    word-wrap: break-word;\n",
       "    word-break: break-all;\n",
       "    font-family: \"Source Code Pro\", \"Menlo\", monospace;;\n",
       "    font-size: 13px;\n",
       "    color: #555;\n",
       "    margin-left: 4px;\n",
       "    line-height: 19px;\n",
       "  }\n",
       "</style>\n",
       "<div class=\"ansiout\">61.3866209888\n",
       "</div>"
      ]
     },
     "metadata": {},
     "output_type": "display_data"
    }
   ],
   "source": [
    "print(smape(np.array(gbt_predictions.select('label').rdd.map(lambda row : row[0]).collect()), np.array(gbt_predictions.select('prediction').rdd.map(lambda row : row[0]).collect())))"
   ]
  },
  {
   "cell_type": "code",
   "execution_count": 35,
   "metadata": {},
   "outputs": [
    {
     "data": {
      "text/html": [
       "<style scoped>\n",
       "  .ansiout {\n",
       "    display: block;\n",
       "    unicode-bidi: embed;\n",
       "    white-space: pre-wrap;\n",
       "    word-wrap: break-word;\n",
       "    word-break: break-all;\n",
       "    font-family: \"Source Code Pro\", \"Menlo\", monospace;;\n",
       "    font-size: 13px;\n",
       "    color: #555;\n",
       "    margin-left: 4px;\n",
       "    line-height: 19px;\n",
       "  }\n",
       "</style>\n",
       "<div class=\"ansiout\"><span class=\"ansired\">Out[</span><span class=\"ansired\">14</span><span class=\"ansired\">]: </span>SparseVector(41, {0: 0.4186, 1: 0.0164, 2: 0.0611, 3: 0.064, 4: 0.0005, 5: 0.0016, 6: 0.0051, 7: 0.0056, 8: 0.0508, 9: 0.0692, 10: 0.0024, 11: 0.0039, 12: 0.0032, 13: 0.0, 14: 0.0008, 15: 0.0018, 16: 0.0034, 17: 0.005, 18: 0.0096, 19: 0.0032, 20: 0.0108, 21: 0.0168, 22: 0.012, 23: 0.0106, 24: 0.0076, 25: 0.0105, 26: 0.0235, 27: 0.0043, 28: 0.0207, 29: 0.0045, 30: 0.0108, 31: 0.0151, 32: 0.0382, 33: 0.0203, 34: 0.0165, 35: 0.024, 36: 0.0097, 37: 0.0003, 38: 0.0075, 39: 0.01, 40: 0.0001})\n",
       "</div>"
      ]
     },
     "metadata": {},
     "output_type": "display_data"
    }
   ],
   "source": [
    "model.bestModel.featureImportances"
   ]
  },
  {
   "cell_type": "code",
   "execution_count": 36,
   "metadata": {},
   "outputs": [
    {
     "data": {
      "text/html": [
       "<style scoped>\n",
       "  .ansiout {\n",
       "    display: block;\n",
       "    unicode-bidi: embed;\n",
       "    white-space: pre-wrap;\n",
       "    word-wrap: break-word;\n",
       "    word-break: break-all;\n",
       "    font-family: \"Source Code Pro\", \"Menlo\", monospace;;\n",
       "    font-size: 13px;\n",
       "    color: #555;\n",
       "    margin-left: 4px;\n",
       "    line-height: 19px;\n",
       "  }\n",
       "</style>\n",
       "<div class=\"ansiout\"></div>"
      ]
     },
     "metadata": {},
     "output_type": "display_data"
    }
   ],
   "source": [
    "fig = plt.figure()\n",
    "ax = fig.add_subplot(111)\n",
    "ax.plot(gbt_predictions.select('label').rdd.map(lambda row : row[0]).collect(), label='True Data')\n",
    "#Pad the list of predictions to shift it in the graph to it's correct start\n",
    "ax.plot(gbt_predictions.select('prediction').rdd.map(lambda row : row[0]).collect(), label='Prediction')\n",
    "plt.legend()\n",
    "display(fig)"
   ]
  },
  {
   "cell_type": "code",
   "execution_count": 37,
   "metadata": {},
   "outputs": [
    {
     "data": {
      "text/html": [
       "<style scoped>\n",
       "  .ansiout {\n",
       "    display: block;\n",
       "    unicode-bidi: embed;\n",
       "    white-space: pre-wrap;\n",
       "    word-wrap: break-word;\n",
       "    word-break: break-all;\n",
       "    font-family: \"Source Code Pro\", \"Menlo\", monospace;;\n",
       "    font-size: 13px;\n",
       "    color: #555;\n",
       "    margin-left: 4px;\n",
       "    line-height: 19px;\n",
       "  }\n",
       "</style>\n",
       "<div class=\"ansiout\"></div>"
      ]
     },
     "metadata": {},
     "output_type": "display_data"
    }
   ],
   "source": [
    "train_df_weekly = train_df.withColumnRenamed(\"pred_weekly\", \"label\").select(\"features\", \"label\")\n",
    "test_df_weekly = test_df.withColumnRenamed(\"pred_weekly\", \"label\").select(\"features\", \"label\")\n",
    "# Run TrainValidationSplit, and choose the best set of parameters.\n",
    "model = tvs.fit(train_df_weekly)\n",
    "\n",
    "# Make predictions on test data. model is the model with combination of parameters\n",
    "# that performed best.\n",
    "gbt_predictions = model.transform(test_df_weekly)\n",
    "\n",
    "gbt_evaluator = RegressionEvaluator(predictionCol=\"prediction\", \\\n",
    "                 labelCol=\"label\",metricName=\"rmse\")\n",
    "print(\"RMSE on test data = %g\" % gbt_evaluator.evaluate(gbt_predictions))"
   ]
  },
  {
   "cell_type": "code",
   "execution_count": 38,
   "metadata": {},
   "outputs": [
    {
     "data": {
      "text/html": [
       "<style scoped>\n",
       "  .ansiout {\n",
       "    display: block;\n",
       "    unicode-bidi: embed;\n",
       "    white-space: pre-wrap;\n",
       "    word-wrap: break-word;\n",
       "    word-break: break-all;\n",
       "    font-family: \"Source Code Pro\", \"Menlo\", monospace;;\n",
       "    font-size: 13px;\n",
       "    color: #555;\n",
       "    margin-left: 4px;\n",
       "    line-height: 19px;\n",
       "  }\n",
       "</style>\n",
       "<div class=\"ansiout\">87.8578836854\n",
       "</div>"
      ]
     },
     "metadata": {},
     "output_type": "display_data"
    }
   ],
   "source": [
    "print(smape(np.array(gbt_predictions.select('label').rdd.map(lambda row : row[0]).collect()), np.array(gbt_predictions.select('prediction').rdd.map(lambda row : row[0]).collect())))"
   ]
  },
  {
   "cell_type": "code",
   "execution_count": 39,
   "metadata": {},
   "outputs": [
    {
     "data": {
      "text/html": [
       "<style scoped>\n",
       "  .ansiout {\n",
       "    display: block;\n",
       "    unicode-bidi: embed;\n",
       "    white-space: pre-wrap;\n",
       "    word-wrap: break-word;\n",
       "    word-break: break-all;\n",
       "    font-family: \"Source Code Pro\", \"Menlo\", monospace;;\n",
       "    font-size: 13px;\n",
       "    color: #555;\n",
       "    margin-left: 4px;\n",
       "    line-height: 19px;\n",
       "  }\n",
       "</style>\n",
       "<div class=\"ansiout\"><span class=\"ansired\">Out[</span><span class=\"ansired\">39</span><span class=\"ansired\">]: </span>SparseVector(41, {0: 0.3322, 1: 0.0134, 2: 0.0162, 3: 0.0556, 4: 0.0004, 5: 0.006, 6: 0.0025, 7: 0.0083, 8: 0.0187, 9: 0.0317, 10: 0.0029, 11: 0.0001, 12: 0.0013, 14: 0.004, 15: 0.001, 16: 0.0049, 17: 0.0111, 18: 0.0016, 19: 0.0092, 20: 0.0201, 21: 0.0021, 22: 0.0168, 23: 0.0243, 24: 0.0146, 25: 0.0141, 26: 0.0309, 27: 0.0197, 28: 0.0484, 29: 0.02, 30: 0.0419, 31: 0.0131, 32: 0.0376, 33: 0.011, 34: 0.0333, 35: 0.0387, 36: 0.0169, 37: 0.0212, 38: 0.0116, 39: 0.0403, 40: 0.0023})\n",
       "</div>"
      ]
     },
     "metadata": {},
     "output_type": "display_data"
    }
   ],
   "source": [
    "model.bestModel.featureImportances"
   ]
  },
  {
   "cell_type": "code",
   "execution_count": 40,
   "metadata": {},
   "outputs": [
    {
     "data": {
      "image/png": "[encoded data removed]"
     },
     "metadata": {},
     "output_type": "display_data"
    }
   ],
   "source": [
    "fig = plt.figure()\n",
    "ax = fig.add_subplot(111)\n",
    "ax.plot(gbt_predictions.select('label').rdd.map(lambda row : row[0]).collect(), label='True Data')\n",
    "#Pad the list of predictions to shift it in the graph to it's correct start\n",
    "ax.plot(gbt_predictions.select('prediction').rdd.map(lambda row : row[0]).collect(), label='Prediction')\n",
    "plt.legend()\n",
    "display(fig)"
   ]
  },
  {
   "cell_type": "code",
   "execution_count": 41,
   "metadata": {},
   "outputs": [
    {
     "data": {
      "text/html": [
       "<style scoped>\n",
       "  .ansiout {\n",
       "    display: block;\n",
       "    unicode-bidi: embed;\n",
       "    white-space: pre-wrap;\n",
       "    word-wrap: break-word;\n",
       "    word-break: break-all;\n",
       "    font-family: \"Source Code Pro\", \"Menlo\", monospace;;\n",
       "    font-size: 13px;\n",
       "    color: #555;\n",
       "    margin-left: 4px;\n",
       "    line-height: 19px;\n",
       "  }\n",
       "</style>\n",
       "<div class=\"ansiout\">RMSE on test data = 1.97092\n",
       "</div>"
      ]
     },
     "metadata": {},
     "output_type": "display_data"
    }
   ],
   "source": [
    "train_df_biweekly = train_df.withColumnRenamed(\"pred_biweekly\", \"label\").select(\"features\", \"label\")\n",
    "test_df_biweekly = test_df.withColumnRenamed(\"pred_biweekly\", \"label\").select(\"features\", \"label\")\n",
    "# Run TrainValidationSplit, and choose the best set of parameters.\n",
    "model = tvs.fit(train_df_biweekly)\n",
    "\n",
    "# Make predictions on test data. model is the model with combination of parameters\n",
    "# that performed best.\n",
    "gbt_predictions = model.transform(test_df_biweekly)\n",
    "\n",
    "gbt_evaluator = RegressionEvaluator(predictionCol=\"prediction\", \\\n",
    "                 labelCol=\"label\",metricName=\"rmse\")\n",
    "print(\"RMSE on test data = %g\" % gbt_evaluator.evaluate(gbt_predictions))"
   ]
  },
  {
   "cell_type": "code",
   "execution_count": 42,
   "metadata": {},
   "outputs": [
    {
     "data": {
      "text/html": [
       "<style scoped>\n",
       "  .ansiout {\n",
       "    display: block;\n",
       "    unicode-bidi: embed;\n",
       "    white-space: pre-wrap;\n",
       "    word-wrap: break-word;\n",
       "    word-break: break-all;\n",
       "    font-family: \"Source Code Pro\", \"Menlo\", monospace;;\n",
       "    font-size: 13px;\n",
       "    color: #555;\n",
       "    margin-left: 4px;\n",
       "    line-height: 19px;\n",
       "  }\n",
       "</style>\n",
       "<div class=\"ansiout\">61.5387665433\n",
       "</div>"
      ]
     },
     "metadata": {},
     "output_type": "display_data"
    }
   ],
   "source": [
    "print(smape(np.array(gbt_predictions.select('label').rdd.map(lambda row : row[0]).collect()), np.array(gbt_predictions.select('prediction').rdd.map(lambda row : row[0]).collect())))"
   ]
  },
  {
   "cell_type": "code",
   "execution_count": 43,
   "metadata": {},
   "outputs": [
    {
     "data": {
      "text/html": [
       "<style scoped>\n",
       "  .ansiout {\n",
       "    display: block;\n",
       "    unicode-bidi: embed;\n",
       "    white-space: pre-wrap;\n",
       "    word-wrap: break-word;\n",
       "    word-break: break-all;\n",
       "    font-family: \"Source Code Pro\", \"Menlo\", monospace;;\n",
       "    font-size: 13px;\n",
       "    color: #555;\n",
       "    margin-left: 4px;\n",
       "    line-height: 19px;\n",
       "  }\n",
       "</style>\n",
       "<div class=\"ansiout\"><span class=\"ansired\">Out[</span><span class=\"ansired\">43</span><span class=\"ansired\">]: </span>SparseVector(41, {0: 0.1947, 1: 0.0197, 2: 0.0183, 3: 0.0263, 4: 0.001, 5: 0.0081, 6: 0.0021, 7: 0.0169, 8: 0.0277, 9: 0.049, 11: 0.0008, 13: 0.0011, 14: 0.0041, 15: 0.0, 17: 0.0093, 18: 0.0234, 19: 0.0022, 20: 0.0066, 21: 0.0197, 22: 0.0063, 23: 0.0254, 24: 0.0061, 25: 0.0201, 26: 0.0338, 27: 0.0318, 28: 0.0222, 29: 0.0522, 30: 0.0315, 31: 0.0545, 32: 0.0231, 33: 0.0377, 34: 0.0208, 35: 0.0718, 36: 0.0375, 37: 0.0162, 38: 0.0364, 39: 0.0416})\n",
       "</div>"
      ]
     },
     "metadata": {},
     "output_type": "display_data"
    }
   ],
   "source": [
    "model.bestModel.featureImportances"
   ]
  },
  {
   "cell_type": "code",
   "execution_count": 44,
   "metadata": {},
   "outputs": [
    {
     "data": {
      "image/png": "[encoded data removed]"
     },
     "metadata": {},
     "output_type": "display_data"
    }
   ],
   "source": [
    "fig = plt.figure()\n",
    "ax = fig.add_subplot(111)\n",
    "ax.plot(gbt_predictions.select('label').rdd.map(lambda row : row[0]).collect(), label='True Data')\n",
    "#Pad the list of predictions to shift it in the graph to it's correct start\n",
    "ax.plot(gbt_predictions.select('prediction').rdd.map(lambda row : row[0]).collect(), label='Prediction')\n",
    "plt.legend()\n",
    "display(fig)"
   ]
  },
  {
   "cell_type": "code",
   "execution_count": 45,
   "metadata": {},
   "outputs": [
    {
     "data": {
      "text/html": [
       "<style scoped>\n",
       "  .ansiout {\n",
       "    display: block;\n",
       "    unicode-bidi: embed;\n",
       "    white-space: pre-wrap;\n",
       "    word-wrap: break-word;\n",
       "    word-break: break-all;\n",
       "    font-family: \"Source Code Pro\", \"Menlo\", monospace;;\n",
       "    font-size: 13px;\n",
       "    color: #555;\n",
       "    margin-left: 4px;\n",
       "    line-height: 19px;\n",
       "  }\n",
       "</style>\n",
       "<div class=\"ansiout\">RMSE on test data = 2.06815\n",
       "</div>"
      ]
     },
     "metadata": {},
     "output_type": "display_data"
    }
   ],
   "source": [
    "train_df_monthly = train_df.withColumnRenamed(\"pred_monthly\", \"label\").select(\"features\", \"label\")\n",
    "test_df_monthly = test_df.withColumnRenamed(\"pred_monthly\", \"label\").select(\"features\", \"label\")\n",
    "# Run TrainValidationSplit, and choose the best set of parameters.\n",
    "model = tvs.fit(train_df_monthly)\n",
    "\n",
    "# Make predictions on test data. model is the model with combination of parameters\n",
    "# that performed best.\n",
    "gbt_predictions = model.transform(test_df_monthly)\n",
    "\n",
    "gbt_evaluator = RegressionEvaluator(predictionCol=\"prediction\", \\\n",
    "                 labelCol=\"label\",metricName=\"rmse\")\n",
    "print(\"RMSE on test data = %g\" % gbt_evaluator.evaluate(gbt_predictions))"
   ]
  },
  {
   "cell_type": "code",
   "execution_count": 46,
   "metadata": {},
   "outputs": [
    {
     "data": {
      "text/html": [
       "<style scoped>\n",
       "  .ansiout {\n",
       "    display: block;\n",
       "    unicode-bidi: embed;\n",
       "    white-space: pre-wrap;\n",
       "    word-wrap: break-word;\n",
       "    word-break: break-all;\n",
       "    font-family: \"Source Code Pro\", \"Menlo\", monospace;;\n",
       "    font-size: 13px;\n",
       "    color: #555;\n",
       "    margin-left: 4px;\n",
       "    line-height: 19px;\n",
       "  }\n",
       "</style>\n",
       "<div class=\"ansiout\">69.5239401507\n",
       "</div>"
      ]
     },
     "metadata": {},
     "output_type": "display_data"
    }
   ],
   "source": [
    "print(smape(np.array(gbt_predictions.select('label').rdd.map(lambda row : row[0]).collect()), np.array(gbt_predictions.select('prediction').rdd.map(lambda row : row[0]).collect())))"
   ]
  },
  {
   "cell_type": "code",
   "execution_count": 47,
   "metadata": {},
   "outputs": [
    {
     "data": {
      "text/html": [
       "<style scoped>\n",
       "  .ansiout {\n",
       "    display: block;\n",
       "    unicode-bidi: embed;\n",
       "    white-space: pre-wrap;\n",
       "    word-wrap: break-word;\n",
       "    word-break: break-all;\n",
       "    font-family: \"Source Code Pro\", \"Menlo\", monospace;;\n",
       "    font-size: 13px;\n",
       "    color: #555;\n",
       "    margin-left: 4px;\n",
       "    line-height: 19px;\n",
       "  }\n",
       "</style>\n",
       "<div class=\"ansiout\"><span class=\"ansired\">Out[</span><span class=\"ansired\">47</span><span class=\"ansired\">]: </span>SparseVector(41, {0: 0.1237, 1: 0.0108, 2: 0.0161, 3: 0.0042, 4: 0.0011, 5: 0.0067, 6: 0.0175, 7: 0.0313, 8: 0.0319, 9: 0.0389, 10: 0.0023, 12: 0.0028, 13: 0.0019, 14: 0.0021, 15: 0.0104, 16: 0.0019, 17: 0.0091, 18: 0.0094, 19: 0.0064, 20: 0.0109, 21: 0.0279, 22: 0.0243, 23: 0.0069, 24: 0.0208, 25: 0.0165, 26: 0.0507, 27: 0.0171, 28: 0.0314, 29: 0.0535, 30: 0.0214, 31: 0.0867, 32: 0.0434, 33: 0.0306, 34: 0.0441, 35: 0.0321, 36: 0.0379, 37: 0.0301, 38: 0.0354, 39: 0.0476, 40: 0.0022})\n",
       "</div>"
      ]
     },
     "metadata": {},
     "output_type": "display_data"
    }
   ],
   "source": [
    "model.bestModel.featureImportances"
   ]
  },
  {
   "cell_type": "code",
   "execution_count": 48,
   "metadata": {},
   "outputs": [
    {
     "data": {
      "image/png": "[encoded data removed]"
     },
     "metadata": {},
     "output_type": "display_data"
    }
   ],
   "source": [
    "fig = plt.figure()\n",
    "ax = fig.add_subplot(111)\n",
    "ax.plot(gbt_predictions.select('label').rdd.map(lambda row : row[0]).collect(), label='True Data')\n",
    "#Pad the list of predictions to shift it in the graph to it's correct start\n",
    "ax.plot(gbt_predictions.select('prediction').rdd.map(lambda row : row[0]).collect(), label='Prediction')\n",
    "plt.legend()\n",
    "display(fig)"
   ]
  },
  {
   "cell_type": "code",
   "execution_count": 49,
   "metadata": {},
   "outputs": [
    {
     "data": {
      "text/html": [
       "<style scoped>\n",
       "  .ansiout {\n",
       "    display: block;\n",
       "    unicode-bidi: embed;\n",
       "    white-space: pre-wrap;\n",
       "    word-wrap: break-word;\n",
       "    word-break: break-all;\n",
       "    font-family: \"Source Code Pro\", \"Menlo\", monospace;;\n",
       "    font-size: 13px;\n",
       "    color: #555;\n",
       "    margin-left: 4px;\n",
       "    line-height: 19px;\n",
       "  }\n",
       "</style>\n",
       "<div class=\"ansiout\">RMSE on test data = 1.88059\n",
       "</div>"
      ]
     },
     "metadata": {},
     "output_type": "display_data"
    }
   ],
   "source": [
    "train_df_quarterly = train_df.withColumnRenamed(\"pred_quarterly\", \"label\").select(\"features\", \"label\")\n",
    "test_df_quarterly = test_df.withColumnRenamed(\"pred_quarterly\", \"label\").select(\"features\", \"label\")\n",
    "# Run TrainValidationSplit, and choose the best set of parameters.\n",
    "model = tvs.fit(train_df_quarterly)\n",
    "\n",
    "# Make predictions on test data. model is the model with combination of parameters\n",
    "# that performed best.\n",
    "gbt_predictions = model.transform(test_df_quarterly)\n",
    "\n",
    "gbt_evaluator = RegressionEvaluator(predictionCol=\"prediction\", \\\n",
    "                 labelCol=\"label\",metricName=\"rmse\")\n",
    "print(\"RMSE on test data = %g\" % gbt_evaluator.evaluate(gbt_predictions))"
   ]
  },
  {
   "cell_type": "code",
   "execution_count": 50,
   "metadata": {},
   "outputs": [
    {
     "data": {
      "text/html": [
       "<style scoped>\n",
       "  .ansiout {\n",
       "    display: block;\n",
       "    unicode-bidi: embed;\n",
       "    white-space: pre-wrap;\n",
       "    word-wrap: break-word;\n",
       "    word-break: break-all;\n",
       "    font-family: \"Source Code Pro\", \"Menlo\", monospace;;\n",
       "    font-size: 13px;\n",
       "    color: #555;\n",
       "    margin-left: 4px;\n",
       "    line-height: 19px;\n",
       "  }\n",
       "</style>\n",
       "<div class=\"ansiout\">54.9740195378\n",
       "</div>"
      ]
     },
     "metadata": {},
     "output_type": "display_data"
    }
   ],
   "source": [
    "print(smape(np.array(gbt_predictions.select('label').rdd.map(lambda row : row[0]).collect()), np.array(gbt_predictions.select('prediction').rdd.map(lambda row : row[0]).collect())))"
   ]
  },
  {
   "cell_type": "code",
   "execution_count": 51,
   "metadata": {},
   "outputs": [
    {
     "data": {
      "text/html": [
       "<style scoped>\n",
       "  .ansiout {\n",
       "    display: block;\n",
       "    unicode-bidi: embed;\n",
       "    white-space: pre-wrap;\n",
       "    word-wrap: break-word;\n",
       "    word-break: break-all;\n",
       "    font-family: \"Source Code Pro\", \"Menlo\", monospace;;\n",
       "    font-size: 13px;\n",
       "    color: #555;\n",
       "    margin-left: 4px;\n",
       "    line-height: 19px;\n",
       "  }\n",
       "</style>\n",
       "<div class=\"ansiout\"><span class=\"ansired\">Out[</span><span class=\"ansired\">51</span><span class=\"ansired\">]: </span>SparseVector(41, {0: 0.1235, 1: 0.0051, 2: 0.0037, 3: 0.0151, 4: 0.003, 5: 0.0021, 6: 0.0015, 7: 0.0202, 8: 0.0325, 9: 0.026, 10: 0.0037, 14: 0.0022, 15: 0.012, 16: 0.0041, 17: 0.0058, 18: 0.0014, 19: 0.0059, 20: 0.0009, 21: 0.0316, 22: 0.0192, 23: 0.0073, 24: 0.0336, 25: 0.031, 26: 0.0272, 27: 0.0254, 28: 0.027, 29: 0.0162, 30: 0.0482, 31: 0.0557, 32: 0.0548, 33: 0.0428, 34: 0.0361, 35: 0.0747, 36: 0.0398, 37: 0.058, 38: 0.0503, 39: 0.0521, 40: 0.0003})\n",
       "</div>"
      ]
     },
     "metadata": {},
     "output_type": "display_data"
    }
   ],
   "source": [
    "model.bestModel.featureImportances"
   ]
  },
  {
   "cell_type": "code",
   "execution_count": 52,
   "metadata": {},
   "outputs": [
    {
     "data": {
      "image/png": "[encoded data removed]"
     },
     "metadata": {},
     "output_type": "display_data"
    }
   ],
   "source": [
    "fig = plt.figure()\n",
    "ax = fig.add_subplot(111)\n",
    "ax.plot(gbt_predictions.select('label').rdd.map(lambda row : row[0]).collect(), label='True Data')\n",
    "#Pad the list of predictions to shift it in the graph to it's correct start\n",
    "ax.plot(gbt_predictions.select('prediction').rdd.map(lambda row : row[0]).collect(), label='Prediction')\n",
    "plt.legend()\n",
    "display(fig)"
   ]
  },
  {
   "cell_type": "code",
   "execution_count": 53,
   "metadata": {},
   "outputs": [
    {
     "data": {
      "text/html": [
       "<style scoped>\n",
       "  .ansiout {\n",
       "    display: block;\n",
       "    unicode-bidi: embed;\n",
       "    white-space: pre-wrap;\n",
       "    word-wrap: break-word;\n",
       "    word-break: break-all;\n",
       "    font-family: \"Source Code Pro\", \"Menlo\", monospace;;\n",
       "    font-size: 13px;\n",
       "    color: #555;\n",
       "    margin-left: 4px;\n",
       "    line-height: 19px;\n",
       "  }\n",
       "</style>\n",
       "<div class=\"ansiout\"></div>"
      ]
     },
     "metadata": {},
     "output_type": "display_data"
    }
   ],
   "source": [
    "dt = DecisionTreeRegressor()\n",
    "\n",
    "# We use a ParamGridBuilder to construct a grid of parameters to search over.\n",
    "# TrainValidationSplit will try all combinations of values and determine best model using\n",
    "# the evaluator.\n",
    "paramGrid = ParamGridBuilder()\\\n",
    "    .addGrid(dt.maxBins, [32, 16, 64]) \\\n",
    "    .addGrid(dt.maxDepth, [5, 10])\\\n",
    "    .build()\n",
    "\n",
    "tvs = TrainValidationSplit(estimator=dt,\n",
    "                           estimatorParamMaps=paramGrid,\n",
    "                           evaluator=RegressionEvaluator(),\n",
    "                           # 80% of the data will be used for training, 20% for validation.\n",
    "                           trainRatio=0.8)\n"
   ]
  },
  {
   "cell_type": "code",
   "execution_count": 54,
   "metadata": {},
   "outputs": [
    {
     "data": {
      "text/html": [
       "<style scoped>\n",
       "  .ansiout {\n",
       "    display: block;\n",
       "    unicode-bidi: embed;\n",
       "    white-space: pre-wrap;\n",
       "    word-wrap: break-word;\n",
       "    word-break: break-all;\n",
       "    font-family: \"Source Code Pro\", \"Menlo\", monospace;;\n",
       "    font-size: 13px;\n",
       "    color: #555;\n",
       "    margin-left: 4px;\n",
       "    line-height: 19px;\n",
       "  }\n",
       "</style>\n",
       "<div class=\"ansiout\">RMSE on test data = 1.88197\n",
       "</div>"
      ]
     },
     "metadata": {},
     "output_type": "display_data"
    }
   ],
   "source": [
    "train_df_daily = train_df.withColumnRenamed(\"pred_daily\", \"label\").select(\"features\", \"label\")\n",
    "test_df_daily = test_df.withColumnRenamed(\"pred_daily\", \"label\").select(\"features\", \"label\")\n",
    "# Run TrainValidationSplit, and choose the best set of parameters.\n",
    "model = tvs.fit(train_df_daily)\n",
    "\n",
    "# Make predictions on test data. model is the model with combination of parameters\n",
    "# that performed best.\n",
    "dt_predictions = model.transform(test_df_daily)\n",
    "\n",
    "dt_evaluator = RegressionEvaluator(predictionCol=\"prediction\", \\\n",
    "                 labelCol=\"label\",metricName=\"rmse\")\n",
    "print(\"RMSE on test data = %g\" % dt_evaluator.evaluate(dt_predictions))"
   ]
  },
  {
   "cell_type": "code",
   "execution_count": 55,
   "metadata": {},
   "outputs": [
    {
     "data": {
      "text/html": [
       "<style scoped>\n",
       "  .ansiout {\n",
       "    display: block;\n",
       "    unicode-bidi: embed;\n",
       "    white-space: pre-wrap;\n",
       "    word-wrap: break-word;\n",
       "    word-break: break-all;\n",
       "    font-family: \"Source Code Pro\", \"Menlo\", monospace;;\n",
       "    font-size: 13px;\n",
       "    color: #555;\n",
       "    margin-left: 4px;\n",
       "    line-height: 19px;\n",
       "  }\n",
       "</style>\n",
       "<div class=\"ansiout\">57.2214612877\n",
       "</div>"
      ]
     },
     "metadata": {},
     "output_type": "display_data"
    }
   ],
   "source": [
    "print(smape(np.array(dt_predictions.select('label').rdd.map(lambda row : row[0]).collect()), np.array(dt_predictions.select('prediction').rdd.map(lambda row : row[0]).collect())))"
   ]
  },
  {
   "cell_type": "code",
   "execution_count": 56,
   "metadata": {},
   "outputs": [
    {
     "data": {
      "text/html": [
       "<style scoped>\n",
       "  .ansiout {\n",
       "    display: block;\n",
       "    unicode-bidi: embed;\n",
       "    white-space: pre-wrap;\n",
       "    word-wrap: break-word;\n",
       "    word-break: break-all;\n",
       "    font-family: \"Source Code Pro\", \"Menlo\", monospace;;\n",
       "    font-size: 13px;\n",
       "    color: #555;\n",
       "    margin-left: 4px;\n",
       "    line-height: 19px;\n",
       "  }\n",
       "</style>\n",
       "<div class=\"ansiout\"><span class=\"ansired\">Out[</span><span class=\"ansired\">30</span><span class=\"ansired\">]: </span>SparseVector(41, {0: 0.995, 1: 0.0019, 2: 0.0002, 3: 0.0009, 4: 0.0, 5: 0.0, 6: 0.0, 7: 0.0, 8: 0.0, 9: 0.0, 10: 0.0, 11: 0.0, 12: 0.0, 13: 0.0, 14: 0.0, 15: 0.0, 16: 0.0, 17: 0.0, 18: 0.0, 19: 0.0, 20: 0.0, 21: 0.0, 22: 0.0, 23: 0.0, 24: 0.0, 25: 0.0, 26: 0.0, 27: 0.0, 28: 0.0, 29: 0.0, 30: 0.0, 31: 0.0, 32: 0.0, 33: 0.0, 34: 0.0, 35: 0.0, 36: 0.0, 37: 0.0014, 38: 0.0001, 39: 0.0, 40: 0.0})\n",
       "</div>"
      ]
     },
     "metadata": {},
     "output_type": "display_data"
    }
   ],
   "source": [
    "model.bestModel.featureImportances"
   ]
  },
  {
   "cell_type": "code",
   "execution_count": 57,
   "metadata": {},
   "outputs": [
    {
     "data": {
      "image/png": "[encoded data removed]"
     },
     "metadata": {},
     "output_type": "display_data"
    }
   ],
   "source": [
    "fig = plt.figure()\n",
    "ax = fig.add_subplot(111)\n",
    "ax.plot(dt_predictions.select('label').rdd.map(lambda row : row[0]).collect(), label='True Data')\n",
    "#Pad the list of predictions to shift it in the graph to it's correct start\n",
    "ax.plot(dt_predictions.select('prediction').rdd.map(lambda row : row[0]).collect(), label='Prediction')\n",
    "plt.legend()\n",
    "display(fig)"
   ]
  },
  {
   "cell_type": "code",
   "execution_count": 58,
   "metadata": {},
   "outputs": [
    {
     "data": {
      "text/html": [
       "<style scoped>\n",
       "  .ansiout {\n",
       "    display: block;\n",
       "    unicode-bidi: embed;\n",
       "    white-space: pre-wrap;\n",
       "    word-wrap: break-word;\n",
       "    word-break: break-all;\n",
       "    font-family: \"Source Code Pro\", \"Menlo\", monospace;;\n",
       "    font-size: 13px;\n",
       "    color: #555;\n",
       "    margin-left: 4px;\n",
       "    line-height: 19px;\n",
       "  }\n",
       "</style>\n",
       "<div class=\"ansiout\">RMSE on test data = 2.08928\n",
       "</div>"
      ]
     },
     "metadata": {},
     "output_type": "display_data"
    }
   ],
   "source": [
    "train_df_weekly = train_df.withColumnRenamed(\"pred_weekly\", \"label\").select(\"features\", \"label\")\n",
    "test_df_weekly = test_df.withColumnRenamed(\"pred_weekly\", \"label\").select(\"features\", \"label\")\n",
    "# Run TrainValidationSplit, and choose the best set of parameters.\n",
    "model = tvs.fit(train_df_weekly)\n",
    "\n",
    "# Make predictions on test data. model is the model with combination of parameters\n",
    "# that performed best.\n",
    "dt_predictions = model.transform(test_df_weekly)\n",
    "\n",
    "dt_evaluator = RegressionEvaluator(predictionCol=\"prediction\", \\\n",
    "                 labelCol=\"label\",metricName=\"rmse\")\n",
    "print(\"RMSE on test data = %g\" % dt_evaluator.evaluate(dt_predictions))"
   ]
  },
  {
   "cell_type": "code",
   "execution_count": 59,
   "metadata": {},
   "outputs": [
    {
     "data": {
      "text/html": [
       "<style scoped>\n",
       "  .ansiout {\n",
       "    display: block;\n",
       "    unicode-bidi: embed;\n",
       "    white-space: pre-wrap;\n",
       "    word-wrap: break-word;\n",
       "    word-break: break-all;\n",
       "    font-family: \"Source Code Pro\", \"Menlo\", monospace;;\n",
       "    font-size: 13px;\n",
       "    color: #555;\n",
       "    margin-left: 4px;\n",
       "    line-height: 19px;\n",
       "  }\n",
       "</style>\n",
       "<div class=\"ansiout\">66.9597550366\n",
       "</div>"
      ]
     },
     "metadata": {},
     "output_type": "display_data"
    }
   ],
   "source": [
    "print(smape(np.array(dt_predictions.select('label').rdd.map(lambda row : row[0]).collect()), np.array(dt_predictions.select('prediction').rdd.map(lambda row : row[0]).collect())))"
   ]
  },
  {
   "cell_type": "code",
   "execution_count": 60,
   "metadata": {},
   "outputs": [
    {
     "data": {
      "text/html": [
       "<style scoped>\n",
       "  .ansiout {\n",
       "    display: block;\n",
       "    unicode-bidi: embed;\n",
       "    white-space: pre-wrap;\n",
       "    word-wrap: break-word;\n",
       "    word-break: break-all;\n",
       "    font-family: \"Source Code Pro\", \"Menlo\", monospace;;\n",
       "    font-size: 13px;\n",
       "    color: #555;\n",
       "    margin-left: 4px;\n",
       "    line-height: 19px;\n",
       "  }\n",
       "</style>\n",
       "<div class=\"ansiout\"><span class=\"ansired\">Out[</span><span class=\"ansired\">34</span><span class=\"ansired\">]: </span>SparseVector(41, {0: 0.9093, 1: 0.0, 2: 0.0771, 3: 0.0021, 4: 0.0, 5: 0.0, 6: 0.0, 7: 0.0, 8: 0.0, 9: 0.0001, 10: 0.0, 11: 0.0, 12: 0.0, 13: 0.0, 14: 0.0, 15: 0.0, 16: 0.0, 17: 0.0, 18: 0.0001, 19: 0.0, 20: 0.0, 21: 0.0, 22: 0.0, 23: 0.0, 24: 0.0001, 25: 0.0003, 26: 0.0001, 27: 0.0001, 28: 0.0001, 29: 0.0001, 30: 0.0004, 31: 0.0001, 32: 0.0002, 33: 0.0001, 34: 0.0069, 35: 0.0002, 36: 0.0001, 37: 0.0015, 38: 0.0005, 39: 0.0002, 40: 0.0})\n",
       "</div>"
      ]
     },
     "metadata": {},
     "output_type": "display_data"
    }
   ],
   "source": [
    "model.bestModel.featureImportances"
   ]
  },
  {
   "cell_type": "code",
   "execution_count": 61,
   "metadata": {},
   "outputs": [
    {
     "data": {
      "image/png": "[encoded data removed]"
     },
     "metadata": {},
     "output_type": "display_data"
    }
   ],
   "source": [
    "fig = plt.figure()\n",
    "ax = fig.add_subplot(111)\n",
    "ax.plot(dt_predictions.select('label').rdd.map(lambda row : row[0]).collect(), label='True Data')\n",
    "#Pad the list of predictions to shift it in the graph to it's correct start\n",
    "ax.plot(dt_predictions.select('prediction').rdd.map(lambda row : row[0]).collect(), label='Prediction')\n",
    "plt.legend()\n",
    "display(fig)"
   ]
  },
  {
   "cell_type": "code",
   "execution_count": 62,
   "metadata": {},
   "outputs": [
    {
     "data": {
      "text/html": [
       "<style scoped>\n",
       "  .ansiout {\n",
       "    display: block;\n",
       "    unicode-bidi: embed;\n",
       "    white-space: pre-wrap;\n",
       "    word-wrap: break-word;\n",
       "    word-break: break-all;\n",
       "    font-family: \"Source Code Pro\", \"Menlo\", monospace;;\n",
       "    font-size: 13px;\n",
       "    color: #555;\n",
       "    margin-left: 4px;\n",
       "    line-height: 19px;\n",
       "  }\n",
       "</style>\n",
       "<div class=\"ansiout\">RMSE on test data = 1.98065\n",
       "</div>"
      ]
     },
     "metadata": {},
     "output_type": "display_data"
    }
   ],
   "source": [
    "train_df_biweekly = train_df.withColumnRenamed(\"pred_biweekly\", \"label\").select(\"features\", \"label\")\n",
    "test_df_biweekly = test_df.withColumnRenamed(\"pred_biweekly\", \"label\").select(\"features\", \"label\")\n",
    "# Run TrainValidationSplit, and choose the best set of parameters.\n",
    "model = tvs.fit(train_df_biweekly)\n",
    "\n",
    "# Make predictions on test data. model is the model with combination of parameters\n",
    "# that performed best.\n",
    "dt_predictions = model.transform(test_df_biweekly)\n",
    "\n",
    "dt_evaluator = RegressionEvaluator(predictionCol=\"prediction\", \\\n",
    "                 labelCol=\"label\",metricName=\"rmse\")\n",
    "print(\"RMSE on test data = %g\" % dt_evaluator.evaluate(dt_predictions))"
   ]
  },
  {
   "cell_type": "code",
   "execution_count": 63,
   "metadata": {},
   "outputs": [
    {
     "data": {
      "text/html": [
       "<style scoped>\n",
       "  .ansiout {\n",
       "    display: block;\n",
       "    unicode-bidi: embed;\n",
       "    white-space: pre-wrap;\n",
       "    word-wrap: break-word;\n",
       "    word-break: break-all;\n",
       "    font-family: \"Source Code Pro\", \"Menlo\", monospace;;\n",
       "    font-size: 13px;\n",
       "    color: #555;\n",
       "    margin-left: 4px;\n",
       "    line-height: 19px;\n",
       "  }\n",
       "</style>\n",
       "<div class=\"ansiout\">62.9718496181\n",
       "</div>"
      ]
     },
     "metadata": {},
     "output_type": "display_data"
    }
   ],
   "source": [
    "print(smape(np.array(dt_predictions.select('label').rdd.map(lambda row : row[0]).collect()), np.array(dt_predictions.select('prediction').rdd.map(lambda row : row[0]).collect())))"
   ]
  },
  {
   "cell_type": "code",
   "execution_count": 64,
   "metadata": {},
   "outputs": [
    {
     "data": {
      "text/html": [
       "<style scoped>\n",
       "  .ansiout {\n",
       "    display: block;\n",
       "    unicode-bidi: embed;\n",
       "    white-space: pre-wrap;\n",
       "    word-wrap: break-word;\n",
       "    word-break: break-all;\n",
       "    font-family: \"Source Code Pro\", \"Menlo\", monospace;;\n",
       "    font-size: 13px;\n",
       "    color: #555;\n",
       "    margin-left: 4px;\n",
       "    line-height: 19px;\n",
       "  }\n",
       "</style>\n",
       "<div class=\"ansiout\"><span class=\"ansired\">Out[</span><span class=\"ansired\">38</span><span class=\"ansired\">]: </span>SparseVector(41, {0: 0.916, 1: 0.0, 2: 0.061, 3: 0.0006, 4: 0.0, 5: 0.0, 6: 0.0, 7: 0.0001, 8: 0.0001, 9: 0.0031, 10: 0.0, 11: 0.0, 12: 0.0, 13: 0.0, 14: 0.0001, 15: 0.0, 16: 0.0, 17: 0.0, 18: 0.0002, 19: 0.0, 20: 0.0, 21: 0.0001, 22: 0.0002, 23: 0.0001, 24: 0.0001, 25: 0.0005, 26: 0.0001, 27: 0.0004, 28: 0.0002, 29: 0.0087, 30: 0.001, 31: 0.0002, 32: 0.0003, 33: 0.0002, 34: 0.0002, 35: 0.0005, 36: 0.0036, 37: 0.0003, 38: 0.0017, 39: 0.0003, 40: 0.0})\n",
       "</div>"
      ]
     },
     "metadata": {},
     "output_type": "display_data"
    }
   ],
   "source": [
    "model.bestModel.featureImportances"
   ]
  },
  {
   "cell_type": "code",
   "execution_count": 65,
   "metadata": {},
   "outputs": [
    {
     "data": {
      "image/png": "[encoded data removed]"
     },
     "metadata": {},
     "output_type": "display_data"
    }
   ],
   "source": [
    "fig = plt.figure()\n",
    "ax = fig.add_subplot(111)\n",
    "ax.plot(dt_predictions.select('label').rdd.map(lambda row : row[0]).collect(), label='True Data')\n",
    "#Pad the list of predictions to shift it in the graph to it's correct start\n",
    "ax.plot(dt_predictions.select('prediction').rdd.map(lambda row : row[0]).collect(), label='Prediction')\n",
    "plt.legend()\n",
    "display(fig)"
   ]
  },
  {
   "cell_type": "code",
   "execution_count": 66,
   "metadata": {},
   "outputs": [
    {
     "data": {
      "text/html": [
       "<style scoped>\n",
       "  .ansiout {\n",
       "    display: block;\n",
       "    unicode-bidi: embed;\n",
       "    white-space: pre-wrap;\n",
       "    word-wrap: break-word;\n",
       "    word-break: break-all;\n",
       "    font-family: \"Source Code Pro\", \"Menlo\", monospace;;\n",
       "    font-size: 13px;\n",
       "    color: #555;\n",
       "    margin-left: 4px;\n",
       "    line-height: 19px;\n",
       "  }\n",
       "</style>\n",
       "<div class=\"ansiout\">RMSE on test data = 2.04229\n",
       "</div>"
      ]
     },
     "metadata": {},
     "output_type": "display_data"
    }
   ],
   "source": [
    "train_df_monthly = train_df.withColumnRenamed(\"pred_monthly\", \"label\").select(\"features\", \"label\")\n",
    "test_df_monthly = test_df.withColumnRenamed(\"pred_monthly\", \"label\").select(\"features\", \"label\")\n",
    "# Run TrainValidationSplit, and choose the best set of parameters.\n",
    "model = tvs.fit(train_df_monthly)\n",
    "\n",
    "# Make predictions on test data. model is the model with combination of parameters\n",
    "# that performed best.\n",
    "dt_predictions = model.transform(test_df_monthly)\n",
    "\n",
    "dt_evaluator = RegressionEvaluator(predictionCol=\"prediction\", \\\n",
    "                 labelCol=\"label\",metricName=\"rmse\")\n",
    "print(\"RMSE on test data = %g\" % dt_evaluator.evaluate(dt_predictions))"
   ]
  },
  {
   "cell_type": "code",
   "execution_count": 67,
   "metadata": {},
   "outputs": [
    {
     "data": {
      "text/html": [
       "<style scoped>\n",
       "  .ansiout {\n",
       "    display: block;\n",
       "    unicode-bidi: embed;\n",
       "    white-space: pre-wrap;\n",
       "    word-wrap: break-word;\n",
       "    word-break: break-all;\n",
       "    font-family: \"Source Code Pro\", \"Menlo\", monospace;;\n",
       "    font-size: 13px;\n",
       "    color: #555;\n",
       "    margin-left: 4px;\n",
       "    line-height: 19px;\n",
       "  }\n",
       "</style>\n",
       "<div class=\"ansiout\">66.4408969607\n",
       "</div>"
      ]
     },
     "metadata": {},
     "output_type": "display_data"
    }
   ],
   "source": [
    "print(smape(np.array(dt_predictions.select('label').rdd.map(lambda row : row[0]).collect()), np.array(dt_predictions.select('prediction').rdd.map(lambda row : row[0]).collect())))"
   ]
  },
  {
   "cell_type": "code",
   "execution_count": 68,
   "metadata": {},
   "outputs": [
    {
     "data": {
      "text/html": [
       "<style scoped>\n",
       "  .ansiout {\n",
       "    display: block;\n",
       "    unicode-bidi: embed;\n",
       "    white-space: pre-wrap;\n",
       "    word-wrap: break-word;\n",
       "    word-break: break-all;\n",
       "    font-family: \"Source Code Pro\", \"Menlo\", monospace;;\n",
       "    font-size: 13px;\n",
       "    color: #555;\n",
       "    margin-left: 4px;\n",
       "    line-height: 19px;\n",
       "  }\n",
       "</style>\n",
       "<div class=\"ansiout\"><span class=\"ansired\">Out[</span><span class=\"ansired\">42</span><span class=\"ansired\">]: </span>SparseVector(41, {0: 0.8917, 1: 0.0, 2: 0.0805, 3: 0.0005, 4: 0.0, 5: 0.0, 6: 0.0, 7: 0.0001, 8: 0.0005, 9: 0.0037, 10: 0.0, 11: 0.0, 12: 0.0, 13: 0.0, 14: 0.0, 15: 0.0, 16: 0.0, 17: 0.0, 18: 0.0, 19: 0.0, 20: 0.0001, 21: 0.0002, 22: 0.0, 23: 0.0, 24: 0.0003, 25: 0.0001, 26: 0.0004, 27: 0.0003, 28: 0.0001, 29: 0.0154, 30: 0.0018, 31: 0.0002, 32: 0.0005, 33: 0.0002, 34: 0.0004, 35: 0.0003, 36: 0.0002, 37: 0.0004, 38: 0.0011, 39: 0.0006, 40: 0.0})\n",
       "</div>"
      ]
     },
     "metadata": {},
     "output_type": "display_data"
    }
   ],
   "source": [
    "model.bestModel.featureImportances"
   ]
  },
  {
   "cell_type": "code",
   "execution_count": 69,
   "metadata": {},
   "outputs": [
    {
     "data": {
      "image/png": "[encoded data removed]"
     },
     "metadata": {},
     "output_type": "display_data"
    }
   ],
   "source": [
    "fig = plt.figure()\n",
    "ax = fig.add_subplot(111)\n",
    "ax.plot(dt_predictions.select('label').rdd.map(lambda row : row[0]).collect(), label='True Data')\n",
    "#Pad the list of predictions to shift it in the graph to it's correct start\n",
    "ax.plot(dt_predictions.select('prediction').rdd.map(lambda row : row[0]).collect(), label='Prediction')\n",
    "plt.legend()\n",
    "display(fig)"
   ]
  },
  {
   "cell_type": "code",
   "execution_count": 70,
   "metadata": {},
   "outputs": [
    {
     "data": {
      "text/html": [
       "<style scoped>\n",
       "  .ansiout {\n",
       "    display: block;\n",
       "    unicode-bidi: embed;\n",
       "    white-space: pre-wrap;\n",
       "    word-wrap: break-word;\n",
       "    word-break: break-all;\n",
       "    font-family: \"Source Code Pro\", \"Menlo\", monospace;;\n",
       "    font-size: 13px;\n",
       "    color: #555;\n",
       "    margin-left: 4px;\n",
       "    line-height: 19px;\n",
       "  }\n",
       "</style>\n",
       "<div class=\"ansiout\">RMSE on test data = 2.13426\n",
       "</div>"
      ]
     },
     "metadata": {},
     "output_type": "display_data"
    }
   ],
   "source": [
    "train_df_quarterly = train_df.withColumnRenamed(\"pred_quarterly\", \"label\").select(\"features\", \"label\")\n",
    "test_df_quarterly = test_df.withColumnRenamed(\"pred_quarterly\", \"label\").select(\"features\", \"label\")\n",
    "# Run TrainValidationSplit, and choose the best set of parameters.\n",
    "model = tvs.fit(train_df_quarterly)\n",
    "\n",
    "# Make predictions on test data. model is the model with combination of parameters\n",
    "# that performed best.\n",
    "dt_predictions = model.transform(test_df_quarterly)\n",
    "\n",
    "dt_evaluator = RegressionEvaluator(predictionCol=\"prediction\", \\\n",
    "                 labelCol=\"label\",metricName=\"rmse\")\n",
    "print(\"RMSE on test data = %g\" % dt_evaluator.evaluate(dt_predictions))"
   ]
  },
  {
   "cell_type": "code",
   "execution_count": 71,
   "metadata": {},
   "outputs": [
    {
     "data": {
      "text/html": [
       "<style scoped>\n",
       "  .ansiout {\n",
       "    display: block;\n",
       "    unicode-bidi: embed;\n",
       "    white-space: pre-wrap;\n",
       "    word-wrap: break-word;\n",
       "    word-break: break-all;\n",
       "    font-family: \"Source Code Pro\", \"Menlo\", monospace;;\n",
       "    font-size: 13px;\n",
       "    color: #555;\n",
       "    margin-left: 4px;\n",
       "    line-height: 19px;\n",
       "  }\n",
       "</style>\n",
       "<div class=\"ansiout\">69.9256275154\n",
       "</div>"
      ]
     },
     "metadata": {},
     "output_type": "display_data"
    }
   ],
   "source": [
    "print(smape(np.array(dt_predictions.select('label').rdd.map(lambda row : row[0]).collect()), np.array(dt_predictions.select('prediction').rdd.map(lambda row : row[0]).collect())))"
   ]
  },
  {
   "cell_type": "code",
   "execution_count": 72,
   "metadata": {},
   "outputs": [
    {
     "data": {
      "text/html": [
       "<style scoped>\n",
       "  .ansiout {\n",
       "    display: block;\n",
       "    unicode-bidi: embed;\n",
       "    white-space: pre-wrap;\n",
       "    word-wrap: break-word;\n",
       "    word-break: break-all;\n",
       "    font-family: \"Source Code Pro\", \"Menlo\", monospace;;\n",
       "    font-size: 13px;\n",
       "    color: #555;\n",
       "    margin-left: 4px;\n",
       "    line-height: 19px;\n",
       "  }\n",
       "</style>\n",
       "<div class=\"ansiout\"><span class=\"ansired\">Out[</span><span class=\"ansired\">46</span><span class=\"ansired\">]: </span>SparseVector(41, {0: 0.9457, 1: 0.0001, 2: 0.0007, 3: 0.0, 4: 0.0, 5: 0.0, 6: 0.0, 7: 0.0001, 8: 0.0003, 9: 0.0025, 10: 0.0, 11: 0.0, 12: 0.0, 13: 0.0, 14: 0.0, 15: 0.0, 16: 0.0001, 17: 0.0, 18: 0.0001, 19: 0.0, 20: 0.0, 21: 0.0, 22: 0.0002, 23: 0.0, 24: 0.0001, 25: 0.0002, 26: 0.0003, 27: 0.0001, 28: 0.0001, 29: 0.0117, 30: 0.0013, 31: 0.0005, 32: 0.0036, 33: 0.0065, 34: 0.0009, 35: 0.0006, 36: 0.0016, 37: 0.0082, 38: 0.0137, 39: 0.0008, 40: 0.0})\n",
       "</div>"
      ]
     },
     "metadata": {},
     "output_type": "display_data"
    }
   ],
   "source": [
    "model.bestModel.featureImportances"
   ]
  },
  {
   "cell_type": "code",
   "execution_count": 73,
   "metadata": {},
   "outputs": [
    {
     "data": {
      "image/png": "[encoded data removed]"
     },
     "metadata": {},
     "output_type": "display_data"
    }
   ],
   "source": [
    "fig = plt.figure()\n",
    "ax = fig.add_subplot(111)\n",
    "ax.plot(dt_predictions.select('label').rdd.map(lambda row : row[0]).collect(), label='True Data')\n",
    "#Pad the list of predictions to shift it in the graph to it's correct start\n",
    "ax.plot(dt_predictions.select('prediction').rdd.map(lambda row : row[0]).collect(), label='Prediction')\n",
    "plt.legend()\n",
    "display(fig)"
   ]
  },
  {
   "cell_type": "markdown",
   "metadata": {},
   "source": [
    "LSTM Model"
   ]
  },
  {
   "cell_type": "code",
   "execution_count": 7,
   "metadata": {},
   "outputs": [],
   "source": [
    "from keras.layers.core import Dense, Activation, Dropout, Flatten\n",
    "from keras.layers.recurrent import LSTM\n",
    "from keras.models import Sequential\n",
    "import matplotlib.pyplot as plt\n",
    "import numpy as np\n",
    "import pandas as pd\n",
    "import math\n",
    "import time"
   ]
  },
  {
   "cell_type": "code",
   "execution_count": 4,
   "metadata": {},
   "outputs": [],
   "source": [
    "# Step 1 Load Data\n",
    "df = pd.read_csv('AAPL.csv')\n",
    "df = df.drop(['Date','Unnamed: 0'],axis=1)\n",
    "df['log_returns'] = np.log(df['Adj_close'])- np.log(df['Adj_close'].shift(1))\n",
    "df.head()\n",
    "df.to_csv('AAPL.csv')"
   ]
  },
  {
   "cell_type": "code",
   "execution_count": 5,
   "metadata": {},
   "outputs": [
    {
     "name": "stderr",
     "output_type": "stream",
     "text": [
      "C:\\Users\\Aron\\Anaconda3\\envs\\py36\\lib\\site-packages\\sklearn\\preprocessing\\data.py:323: DataConversionWarning: Data with input dtype int64, float64 were all converted to float64 by MinMaxScaler.\n",
      "  return self.partial_fit(X, y)\n"
     ]
    }
   ],
   "source": [
    "from sklearn.model_selection import TimeSeriesSplit\n",
    "from sklearn import preprocessing\n",
    "\n",
    "min_max_scaler = preprocessing.MinMaxScaler()\n",
    "temp = min_max_scaler.fit_transform(df)\n",
    "my_array = np.array(temp)\n",
    "\n",
    "\n",
    "\n",
    "X = my_array[:, :-1]\n",
    "Y = my_array[:, -1]\n",
    "x_train, x_test = X[1:math.floor(len(X)*0.8)], X[math.ceil(len(X)*0.8):-1]\n",
    "y_train, y_test = Y[1:math.floor(len(X)*0.8)], Y[math.ceil(len(X)*0.8):-1]\n",
    "x_train = np.reshape(x_train, (x_train.shape[0], x_train.shape[1], 1))\n",
    "x_test = np.reshape(x_test, (x_test.shape[0], x_test.shape[1], 1)) "
   ]
  },
  {
   "cell_type": "code",
   "execution_count": 8,
   "metadata": {},
   "outputs": [
    {
     "name": "stderr",
     "output_type": "stream",
     "text": [
      "C:\\Users\\Aron\\Anaconda3\\envs\\py36\\lib\\site-packages\\ipykernel_launcher.py:7: UserWarning: The `input_dim` and `input_length` arguments in recurrent layers are deprecated. Use `input_shape` instead.\n",
      "  import sys\n",
      "C:\\Users\\Aron\\Anaconda3\\envs\\py36\\lib\\site-packages\\ipykernel_launcher.py:7: UserWarning: Update your `LSTM` call to the Keras 2 API: `LSTM(return_sequences=True, input_shape=(None, 1), units=50)`\n",
      "  import sys\n"
     ]
    },
    {
     "name": "stdout",
     "output_type": "stream",
     "text": [
      "compilation time :  0.029743432998657227\n"
     ]
    },
    {
     "name": "stderr",
     "output_type": "stream",
     "text": [
      "C:\\Users\\Aron\\Anaconda3\\envs\\py36\\lib\\site-packages\\ipykernel_launcher.py:16: UserWarning: Update your `Dense` call to the Keras 2 API: `Dense(units=1)`\n",
      "  app.launch_new_instance()\n"
     ]
    }
   ],
   "source": [
    "# Step 2 Build Model\n",
    "model1 = Sequential()\n",
    "\n",
    "model1.add(LSTM(\n",
    "    input_dim=1,\n",
    "    output_dim=50,\n",
    "    return_sequences=True))\n",
    "model1.add(Dropout(0.4))\n",
    "\n",
    "model1.add(LSTM(\n",
    "    100,\n",
    "    return_sequences=False))\n",
    "model1.add(Dropout(0.4))\n",
    "\n",
    "model1.add(Dense(\n",
    "    output_dim=1))\n",
    "model1.add(Activation('linear'))\n",
    "\n",
    "start = time.time()\n",
    "model1.compile(loss='mse', optimizer='rmsprop')\n",
    "print ('compilation time : ', time.time() - start)"
   ]
  },
  {
   "cell_type": "code",
   "execution_count": 9,
   "metadata": {},
   "outputs": [],
   "source": [
    "from numpy import newaxis\n",
    "from keras.layers.core import Dense, Activation, Dropout\n",
    "from keras.layers.recurrent import LSTM\n",
    "from keras.models import Sequential\n",
    "import matplotlib.pyplot as plt\n",
    "\n",
    "def predict_sequences_multiple(model, data, window_size, prediction_len):\n",
    "    #Predict sequence of 50 steps before shifting prediction run forward by 50 steps\n",
    "    prediction_seqs = []\n",
    "    for i in range(len(data) // prediction_len):\n",
    "        curr_frame = data[i*prediction_len]\n",
    "        predicted = []\n",
    "        for j in range(prediction_len):\n",
    "            predicted.append(model.predict(curr_frame[newaxis,:,:])[0,0])\n",
    "            curr_frame = curr_frame[1:]\n",
    "            curr_frame = np.insert(curr_frame, [window_size-1], predicted[-1], axis=0)\n",
    "        prediction_seqs.append(predicted)\n",
    "    return prediction_seqs"
   ]
  },
  {
   "cell_type": "code",
   "execution_count": 10,
   "metadata": {},
   "outputs": [
    {
     "name": "stderr",
     "output_type": "stream",
     "text": [
      "C:\\Users\\Aron\\Anaconda3\\envs\\py36\\lib\\site-packages\\ipykernel_launcher.py:6: UserWarning: The `nb_epoch` argument in `fit` has been renamed `epochs`.\n",
      "  \n"
     ]
    },
    {
     "name": "stdout",
     "output_type": "stream",
     "text": [
      "Train on 6907 samples, validate on 364 samples\n",
      "Epoch 1/10\n",
      "6907/6907 [==============================] - 22s 3ms/step - loss: 0.5228 - val_loss: 0.4343\n",
      "Epoch 2/10\n",
      "6907/6907 [==============================] - 15s 2ms/step - loss: 0.4351 - val_loss: 0.3198\n",
      "Epoch 3/10\n",
      "6907/6907 [==============================] - 15s 2ms/step - loss: 0.3221 - val_loss: 0.1026\n",
      "Epoch 4/10\n",
      "6907/6907 [==============================] - 15s 2ms/step - loss: 0.1064 - val_loss: 6.8352\n",
      "Epoch 5/10\n",
      "6907/6907 [==============================] - 14s 2ms/step - loss: 6.9494 - val_loss: 0.1559\n",
      "Epoch 6/10\n",
      "6907/6907 [==============================] - 14s 2ms/step - loss: 0.1592 - val_loss: 0.1390\n",
      "Epoch 7/10\n",
      "6907/6907 [==============================] - 16s 2ms/step - loss: 0.1424 - val_loss: 0.1222\n",
      "Epoch 8/10\n",
      "6907/6907 [==============================] - 15s 2ms/step - loss: 0.1266 - val_loss: 0.1056\n",
      "Epoch 9/10\n",
      "6907/6907 [==============================] - 16s 2ms/step - loss: 0.1102 - val_loss: 0.0894\n",
      "Epoch 10/10\n",
      "6907/6907 [==============================] - 16s 2ms/step - loss: 0.0942 - val_loss: 0.0738\n"
     ]
    },
    {
     "data": {
      "text/plain": [
       "<keras.callbacks.History at 0x21d387c3d68>"
      ]
     },
     "execution_count": 10,
     "metadata": {},
     "output_type": "execute_result"
    }
   ],
   "source": [
    "model1.fit(\n",
    "    x_train,\n",
    "    y_train,\n",
    "    batch_size=7271,\n",
    "    nb_epoch=10,\n",
    "    validation_split=0.05)"
   ]
  },
  {
   "cell_type": "code",
   "execution_count": 11,
   "metadata": {},
   "outputs": [
    {
     "data": {
      "image/png": "[encoded data removed]",
      "text/plain": [
       "<Figure size 432x288 with 1 Axes>"
      ]
     },
     "metadata": {
      "needs_background": "light"
     },
     "output_type": "display_data"
    }
   ],
   "source": [
    "\n",
    "# Step 4 - Plot the predictions!\n",
    "predictions_returns_day = np.array(predict_sequences_multiple(model1, x_test, 50, 1)).flatten()\n",
    "\n",
    "# Convert everything back into prices\n",
    "r0 = np.array(df['log_return'])[-len(predictions_returns_day):]\n",
    "p0 = np.array(df['Adj_close'])[-len(predictions_returns_day):]\n",
    "actual_prices = p0 * (np.exp((r0*y_test )))\n",
    "predictions_day = p0 * (np.exp(r0*predictions_returns_day))\n",
    "\n",
    "# Step 4 - Plot the predictions!\n",
    "fig = plt.figure()\n",
    "ax = fig.add_subplot(111)\n",
    "ax.plot(actual_prices, label='True Data')\n",
    "#Pad the list of predictions to shift it in the graph to it's correct start\n",
    "ax.plot(predictions_day, label='Prediction')\n",
    "plt.legend()\n",
    "plt.show()"
   ]
  },
  {
   "cell_type": "markdown",
   "metadata": {},
   "source": [
    "Week Model"
   ]
  },
  {
   "cell_type": "code",
   "execution_count": 12,
   "metadata": {},
   "outputs": [
    {
     "data": {
      "text/html": [
       "<div>\n",
       "<style scoped>\n",
       "    .dataframe tbody tr th:only-of-type {\n",
       "        vertical-align: middle;\n",
       "    }\n",
       "\n",
       "    .dataframe tbody tr th {\n",
       "        vertical-align: top;\n",
       "    }\n",
       "\n",
       "    .dataframe thead th {\n",
       "        text-align: right;\n",
       "    }\n",
       "</style>\n",
       "<table border=\"1\" class=\"dataframe\">\n",
       "  <thead>\n",
       "    <tr style=\"text-align: right;\">\n",
       "      <th></th>\n",
       "      <th>Open</th>\n",
       "      <th>High</th>\n",
       "      <th>Low</th>\n",
       "      <th>Close</th>\n",
       "      <th>Volume</th>\n",
       "      <th>log_return</th>\n",
       "      <th>weekly_mean</th>\n",
       "      <th>biweekly_mean</th>\n",
       "      <th>monthly_mean</th>\n",
       "      <th>bimonthly_mean</th>\n",
       "      <th>...</th>\n",
       "      <th>Month4</th>\n",
       "      <th>Month5</th>\n",
       "      <th>Month6</th>\n",
       "      <th>Month7</th>\n",
       "      <th>Month8</th>\n",
       "      <th>Month9</th>\n",
       "      <th>Month10</th>\n",
       "      <th>Month11</th>\n",
       "      <th>Adj_close</th>\n",
       "      <th>log_returns</th>\n",
       "    </tr>\n",
       "  </thead>\n",
       "  <tbody>\n",
       "    <tr>\n",
       "      <th>0</th>\n",
       "      <td>0.328125</td>\n",
       "      <td>0.328125</td>\n",
       "      <td>0.323661</td>\n",
       "      <td>0.323661</td>\n",
       "      <td>6311200</td>\n",
       "      <td>-0.033959</td>\n",
       "      <td>-0.010751</td>\n",
       "      <td>-0.002727</td>\n",
       "      <td>-0.003484</td>\n",
       "      <td>0.000000</td>\n",
       "      <td>...</td>\n",
       "      <td>0</td>\n",
       "      <td>0</td>\n",
       "      <td>0</td>\n",
       "      <td>0</td>\n",
       "      <td>0</td>\n",
       "      <td>0</td>\n",
       "      <td>0</td>\n",
       "      <td>1</td>\n",
       "      <td>0.014504</td>\n",
       "      <td>NaN</td>\n",
       "    </tr>\n",
       "    <tr>\n",
       "      <th>1</th>\n",
       "      <td>0.332589</td>\n",
       "      <td>0.334821</td>\n",
       "      <td>0.332589</td>\n",
       "      <td>0.332589</td>\n",
       "      <td>7828800</td>\n",
       "      <td>0.027272</td>\n",
       "      <td>-0.001337</td>\n",
       "      <td>0.000000</td>\n",
       "      <td>0.001299</td>\n",
       "      <td>0.000160</td>\n",
       "      <td>...</td>\n",
       "      <td>0</td>\n",
       "      <td>0</td>\n",
       "      <td>0</td>\n",
       "      <td>0</td>\n",
       "      <td>0</td>\n",
       "      <td>0</td>\n",
       "      <td>0</td>\n",
       "      <td>1</td>\n",
       "      <td>0.014905</td>\n",
       "      <td>NaN</td>\n",
       "    </tr>\n",
       "    <tr>\n",
       "      <th>2</th>\n",
       "      <td>0.348214</td>\n",
       "      <td>0.350446</td>\n",
       "      <td>0.348214</td>\n",
       "      <td>0.348214</td>\n",
       "      <td>16363200</td>\n",
       "      <td>0.045895</td>\n",
       "      <td>0.006513</td>\n",
       "      <td>0.003921</td>\n",
       "      <td>0.004145</td>\n",
       "      <td>0.001578</td>\n",
       "      <td>...</td>\n",
       "      <td>0</td>\n",
       "      <td>0</td>\n",
       "      <td>0</td>\n",
       "      <td>0</td>\n",
       "      <td>0</td>\n",
       "      <td>0</td>\n",
       "      <td>0</td>\n",
       "      <td>1</td>\n",
       "      <td>0.015605</td>\n",
       "      <td>NaN</td>\n",
       "    </tr>\n",
       "    <tr>\n",
       "      <th>3</th>\n",
       "      <td>0.377232</td>\n",
       "      <td>0.379464</td>\n",
       "      <td>0.377232</td>\n",
       "      <td>0.377232</td>\n",
       "      <td>12863200</td>\n",
       "      <td>0.080018</td>\n",
       "      <td>0.022517</td>\n",
       "      <td>0.013264</td>\n",
       "      <td>0.006967</td>\n",
       "      <td>0.002998</td>\n",
       "      <td>...</td>\n",
       "      <td>0</td>\n",
       "      <td>0</td>\n",
       "      <td>0</td>\n",
       "      <td>0</td>\n",
       "      <td>0</td>\n",
       "      <td>0</td>\n",
       "      <td>0</td>\n",
       "      <td>1</td>\n",
       "      <td>0.016905</td>\n",
       "      <td>NaN</td>\n",
       "    </tr>\n",
       "    <tr>\n",
       "      <th>4</th>\n",
       "      <td>0.408482</td>\n",
       "      <td>0.410714</td>\n",
       "      <td>0.408482</td>\n",
       "      <td>0.408482</td>\n",
       "      <td>17931200</td>\n",
       "      <td>0.079619</td>\n",
       "      <td>0.039769</td>\n",
       "      <td>0.018560</td>\n",
       "      <td>0.009153</td>\n",
       "      <td>0.003649</td>\n",
       "      <td>...</td>\n",
       "      <td>0</td>\n",
       "      <td>0</td>\n",
       "      <td>0</td>\n",
       "      <td>0</td>\n",
       "      <td>0</td>\n",
       "      <td>0</td>\n",
       "      <td>0</td>\n",
       "      <td>1</td>\n",
       "      <td>0.018306</td>\n",
       "      <td>NaN</td>\n",
       "    </tr>\n",
       "    <tr>\n",
       "      <th>5</th>\n",
       "      <td>0.392857</td>\n",
       "      <td>0.392857</td>\n",
       "      <td>0.390625</td>\n",
       "      <td>0.390625</td>\n",
       "      <td>14100800</td>\n",
       "      <td>-0.044742</td>\n",
       "      <td>0.037612</td>\n",
       "      <td>0.013431</td>\n",
       "      <td>0.007022</td>\n",
       "      <td>0.002584</td>\n",
       "      <td>...</td>\n",
       "      <td>0</td>\n",
       "      <td>0</td>\n",
       "      <td>0</td>\n",
       "      <td>0</td>\n",
       "      <td>0</td>\n",
       "      <td>0</td>\n",
       "      <td>0</td>\n",
       "      <td>1</td>\n",
       "      <td>0.017505</td>\n",
       "      <td>0.188062</td>\n",
       "    </tr>\n",
       "    <tr>\n",
       "      <th>6</th>\n",
       "      <td>0.397321</td>\n",
       "      <td>0.399554</td>\n",
       "      <td>0.397321</td>\n",
       "      <td>0.397321</td>\n",
       "      <td>13456800</td>\n",
       "      <td>0.016993</td>\n",
       "      <td>0.035557</td>\n",
       "      <td>0.017110</td>\n",
       "      <td>0.007517</td>\n",
       "      <td>0.003140</td>\n",
       "      <td>...</td>\n",
       "      <td>0</td>\n",
       "      <td>0</td>\n",
       "      <td>0</td>\n",
       "      <td>0</td>\n",
       "      <td>0</td>\n",
       "      <td>0</td>\n",
       "      <td>0</td>\n",
       "      <td>1</td>\n",
       "      <td>0.017805</td>\n",
       "      <td>0.177783</td>\n",
       "    </tr>\n",
       "    <tr>\n",
       "      <th>7</th>\n",
       "      <td>0.390625</td>\n",
       "      <td>0.390625</td>\n",
       "      <td>0.388393</td>\n",
       "      <td>0.388393</td>\n",
       "      <td>7224000</td>\n",
       "      <td>-0.022722</td>\n",
       "      <td>0.021833</td>\n",
       "      <td>0.014173</td>\n",
       "      <td>0.008683</td>\n",
       "      <td>0.003217</td>\n",
       "      <td>...</td>\n",
       "      <td>0</td>\n",
       "      <td>0</td>\n",
       "      <td>0</td>\n",
       "      <td>0</td>\n",
       "      <td>0</td>\n",
       "      <td>0</td>\n",
       "      <td>0</td>\n",
       "      <td>1</td>\n",
       "      <td>0.017405</td>\n",
       "      <td>0.109166</td>\n",
       "    </tr>\n",
       "    <tr>\n",
       "      <th>8</th>\n",
       "      <td>0.390625</td>\n",
       "      <td>0.392857</td>\n",
       "      <td>0.390625</td>\n",
       "      <td>0.390625</td>\n",
       "      <td>7229600</td>\n",
       "      <td>0.005729</td>\n",
       "      <td>0.006975</td>\n",
       "      <td>0.014746</td>\n",
       "      <td>0.009285</td>\n",
       "      <td>0.003354</td>\n",
       "      <td>...</td>\n",
       "      <td>0</td>\n",
       "      <td>0</td>\n",
       "      <td>0</td>\n",
       "      <td>0</td>\n",
       "      <td>0</td>\n",
       "      <td>0</td>\n",
       "      <td>0</td>\n",
       "      <td>1</td>\n",
       "      <td>0.017505</td>\n",
       "      <td>0.034877</td>\n",
       "    </tr>\n",
       "    <tr>\n",
       "      <th>9</th>\n",
       "      <td>0.377232</td>\n",
       "      <td>0.377232</td>\n",
       "      <td>0.372768</td>\n",
       "      <td>0.372768</td>\n",
       "      <td>9144800</td>\n",
       "      <td>-0.046778</td>\n",
       "      <td>-0.018304</td>\n",
       "      <td>0.010732</td>\n",
       "      <td>0.006072</td>\n",
       "      <td>0.001775</td>\n",
       "      <td>...</td>\n",
       "      <td>0</td>\n",
       "      <td>0</td>\n",
       "      <td>0</td>\n",
       "      <td>0</td>\n",
       "      <td>0</td>\n",
       "      <td>0</td>\n",
       "      <td>0</td>\n",
       "      <td>1</td>\n",
       "      <td>0.016705</td>\n",
       "      <td>-0.091521</td>\n",
       "    </tr>\n",
       "  </tbody>\n",
       "</table>\n",
       "<p>10 rows × 105 columns</p>\n",
       "</div>"
      ],
      "text/plain": [
       "       Open      High       Low     Close    Volume  log_return  weekly_mean  \\\n",
       "0  0.328125  0.328125  0.323661  0.323661   6311200   -0.033959    -0.010751   \n",
       "1  0.332589  0.334821  0.332589  0.332589   7828800    0.027272    -0.001337   \n",
       "2  0.348214  0.350446  0.348214  0.348214  16363200    0.045895     0.006513   \n",
       "3  0.377232  0.379464  0.377232  0.377232  12863200    0.080018     0.022517   \n",
       "4  0.408482  0.410714  0.408482  0.408482  17931200    0.079619     0.039769   \n",
       "5  0.392857  0.392857  0.390625  0.390625  14100800   -0.044742     0.037612   \n",
       "6  0.397321  0.399554  0.397321  0.397321  13456800    0.016993     0.035557   \n",
       "7  0.390625  0.390625  0.388393  0.388393   7224000   -0.022722     0.021833   \n",
       "8  0.390625  0.392857  0.390625  0.390625   7229600    0.005729     0.006975   \n",
       "9  0.377232  0.377232  0.372768  0.372768   9144800   -0.046778    -0.018304   \n",
       "\n",
       "   biweekly_mean  monthly_mean  bimonthly_mean     ...       Month4  Month5  \\\n",
       "0      -0.002727     -0.003484        0.000000     ...            0       0   \n",
       "1       0.000000      0.001299        0.000160     ...            0       0   \n",
       "2       0.003921      0.004145        0.001578     ...            0       0   \n",
       "3       0.013264      0.006967        0.002998     ...            0       0   \n",
       "4       0.018560      0.009153        0.003649     ...            0       0   \n",
       "5       0.013431      0.007022        0.002584     ...            0       0   \n",
       "6       0.017110      0.007517        0.003140     ...            0       0   \n",
       "7       0.014173      0.008683        0.003217     ...            0       0   \n",
       "8       0.014746      0.009285        0.003354     ...            0       0   \n",
       "9       0.010732      0.006072        0.001775     ...            0       0   \n",
       "\n",
       "   Month6  Month7  Month8  Month9  Month10  Month11  Adj_close  log_returns  \n",
       "0       0       0       0       0        0        1   0.014504          NaN  \n",
       "1       0       0       0       0        0        1   0.014905          NaN  \n",
       "2       0       0       0       0        0        1   0.015605          NaN  \n",
       "3       0       0       0       0        0        1   0.016905          NaN  \n",
       "4       0       0       0       0        0        1   0.018306          NaN  \n",
       "5       0       0       0       0        0        1   0.017505     0.188062  \n",
       "6       0       0       0       0        0        1   0.017805     0.177783  \n",
       "7       0       0       0       0        0        1   0.017405     0.109166  \n",
       "8       0       0       0       0        0        1   0.017505     0.034877  \n",
       "9       0       0       0       0        0        1   0.016705    -0.091521  \n",
       "\n",
       "[10 rows x 105 columns]"
      ]
     },
     "execution_count": 12,
     "metadata": {},
     "output_type": "execute_result"
    }
   ],
   "source": [
    "# Step 1 Load Data\n",
    "df = pd.read_csv('AAPL.csv')\n",
    "df = df.drop(['Date','Unnamed: 0'],axis=1)\n",
    "df['log_returns'] = np.log(df['Adj_close'])- np.log(df['Adj_close'].shift(5))\n",
    "df.head(10)"
   ]
  },
  {
   "cell_type": "code",
   "execution_count": null,
   "metadata": {},
   "outputs": [],
   "source": []
  },
  {
   "cell_type": "code",
   "execution_count": 22,
   "metadata": {},
   "outputs": [
    {
     "name": "stderr",
     "output_type": "stream",
     "text": [
      "C:\\Users\\Aron\\Anaconda3\\envs\\py36\\lib\\site-packages\\sklearn\\preprocessing\\data.py:323: DataConversionWarning: Data with input dtype int64, float64 were all converted to float64 by MinMaxScaler.\n",
      "  return self.partial_fit(X, y)\n"
     ]
    }
   ],
   "source": [
    "from sklearn.model_selection import TimeSeriesSplit\n",
    "from sklearn import preprocessing\n",
    "\n",
    "min_max_scaler = preprocessing.MinMaxScaler()\n",
    "temp = min_max_scaler.fit_transform(df)\n",
    "my_array = np.array(temp)\n",
    "\n",
    "\n",
    "\n",
    "X = my_array[:, :-1]\n",
    "Y = my_array[:, -1]\n",
    "x_train, x_test = X[5:math.floor(len(X)*0.8)], X[math.ceil(len(X)*0.8):-1]\n",
    "y_train, y_test = Y[5:math.floor(len(X)*0.8)], Y[math.ceil(len(X)*0.8):-1]\n",
    "x_train = np.reshape(x_train, (x_train.shape[0], x_train.shape[1], 1))\n",
    "x_test = np.reshape(x_test, (x_test.shape[0], x_test.shape[1], 1))  "
   ]
  },
  {
   "cell_type": "code",
   "execution_count": 23,
   "metadata": {},
   "outputs": [
    {
     "name": "stderr",
     "output_type": "stream",
     "text": [
      "C:\\Users\\Aron\\Anaconda3\\envs\\py36\\lib\\site-packages\\ipykernel_launcher.py:7: UserWarning: The `input_dim` and `input_length` arguments in recurrent layers are deprecated. Use `input_shape` instead.\n",
      "  import sys\n",
      "C:\\Users\\Aron\\Anaconda3\\envs\\py36\\lib\\site-packages\\ipykernel_launcher.py:7: UserWarning: Update your `LSTM` call to the Keras 2 API: `LSTM(return_sequences=True, input_shape=(None, 1), units=50)`\n",
      "  import sys\n"
     ]
    },
    {
     "name": "stdout",
     "output_type": "stream",
     "text": [
      "compilation time :  0.02989792823791504\n"
     ]
    },
    {
     "name": "stderr",
     "output_type": "stream",
     "text": [
      "C:\\Users\\Aron\\Anaconda3\\envs\\py36\\lib\\site-packages\\ipykernel_launcher.py:16: UserWarning: Update your `Dense` call to the Keras 2 API: `Dense(units=1)`\n",
      "  app.launch_new_instance()\n"
     ]
    }
   ],
   "source": [
    "# Step 2 Build Model\n",
    "model2 = Sequential()\n",
    "\n",
    "model2.add(LSTM(\n",
    "    input_dim=1,\n",
    "    output_dim=50,\n",
    "    return_sequences=True))\n",
    "model2.add(Dropout(0.4))\n",
    "\n",
    "model2.add(LSTM(\n",
    "    100,\n",
    "    return_sequences=False))\n",
    "model2.add(Dropout(0.4))\n",
    "\n",
    "model2.add(Dense(\n",
    "    output_dim=1))\n",
    "model2.add(Activation('linear'))\n",
    "\n",
    "start = time.time()\n",
    "model2.compile(loss='mse', optimizer='rmsprop')\n",
    "print ('compilation time : ', time.time() - start)"
   ]
  },
  {
   "cell_type": "code",
   "execution_count": 18,
   "metadata": {},
   "outputs": [
    {
     "name": "stderr",
     "output_type": "stream",
     "text": [
      "C:\\Users\\Aron\\Anaconda3\\envs\\py36\\lib\\site-packages\\ipykernel_launcher.py:6: UserWarning: The `nb_epoch` argument in `fit` has been renamed `epochs`.\n",
      "  \n"
     ]
    },
    {
     "name": "stdout",
     "output_type": "stream",
     "text": [
      "Train on 6903 samples, validate on 364 samples\n",
      "Epoch 1/10\n",
      "6903/6903 [==============================] - 17s 3ms/step - loss: 0.4077 - val_loss: 0.3282\n",
      "Epoch 2/10\n",
      "6903/6903 [==============================] - 16s 2ms/step - loss: 0.3268 - val_loss: 0.2147\n",
      "Epoch 3/10\n",
      "6903/6903 [==============================] - 15s 2ms/step - loss: 0.2155 - val_loss: 0.0200\n",
      "Epoch 4/10\n",
      "6903/6903 [==============================] - 15s 2ms/step - loss: 0.0256 - val_loss: 7.2639\n",
      "Epoch 5/10\n",
      "6903/6903 [==============================] - 14s 2ms/step - loss: 7.3691 - val_loss: 0.0945\n",
      "Epoch 6/10\n",
      "6903/6903 [==============================] - 15s 2ms/step - loss: 0.0972 - val_loss: 0.0833\n",
      "Epoch 7/10\n",
      "6903/6903 [==============================] - 14s 2ms/step - loss: 0.0865 - val_loss: 0.0724\n",
      "Epoch 8/10\n",
      "6903/6903 [==============================] - 14s 2ms/step - loss: 0.0754 - val_loss: 0.0620\n",
      "Epoch 9/10\n",
      "6903/6903 [==============================] - 14s 2ms/step - loss: 0.0655 - val_loss: 0.0521\n",
      "Epoch 10/10\n",
      "6903/6903 [==============================] - 14s 2ms/step - loss: 0.0561 - val_loss: 0.0429\n"
     ]
    },
    {
     "data": {
      "text/plain": [
       "<keras.callbacks.History at 0x21d0016ce80>"
      ]
     },
     "execution_count": 18,
     "metadata": {},
     "output_type": "execute_result"
    }
   ],
   "source": [
    "model2.fit(\n",
    "    x_train,\n",
    "    y_train,\n",
    "    batch_size=7271,\n",
    "    nb_epoch=10,\n",
    "    validation_split=0.05)"
   ]
  },
  {
   "cell_type": "code",
   "execution_count": 24,
   "metadata": {},
   "outputs": [
    {
     "data": {
      "image/png": "[encoded data removed]",
      "text/plain": [
       "<Figure size 432x288 with 1 Axes>"
      ]
     },
     "metadata": {
      "needs_background": "light"
     },
     "output_type": "display_data"
    }
   ],
   "source": [
    "predictions_returns_week = np.array(predict_sequences_multiple(model2, x_test, 50, 1)).flatten()\n",
    "# Convert everything back into prices\n",
    "r0 = np.array(df['log_return'])[-len(predictions_returns_week):]\n",
    "p0 = np.array(df['Adj_close'])[-len(predictions_returns_week):]\n",
    "actual_prices = p0 * (np.exp((r0*y_test )))\n",
    "predictions_week = p0 * (np.exp(r0*predictions_returns_week))\n",
    "\n",
    "# Step 4 - Plot the predictions!\n",
    "fig = plt.figure()\n",
    "ax = fig.add_subplot(111)\n",
    "ax.plot(actual_prices, label='True Data')\n",
    "#Pad the list of predictions to shift it in the graph to it's correct start\n",
    "ax.plot(predictions_week, label='Prediction')\n",
    "plt.legend()\n",
    "plt.show()"
   ]
  },
  {
   "cell_type": "markdown",
   "metadata": {},
   "source": [
    "2 weeks"
   ]
  },
  {
   "cell_type": "code",
   "execution_count": 43,
   "metadata": {},
   "outputs": [
    {
     "data": {
      "text/html": [
       "<div>\n",
       "<style scoped>\n",
       "    .dataframe tbody tr th:only-of-type {\n",
       "        vertical-align: middle;\n",
       "    }\n",
       "\n",
       "    .dataframe tbody tr th {\n",
       "        vertical-align: top;\n",
       "    }\n",
       "\n",
       "    .dataframe thead th {\n",
       "        text-align: right;\n",
       "    }\n",
       "</style>\n",
       "<table border=\"1\" class=\"dataframe\">\n",
       "  <thead>\n",
       "    <tr style=\"text-align: right;\">\n",
       "      <th></th>\n",
       "      <th>Open</th>\n",
       "      <th>High</th>\n",
       "      <th>Low</th>\n",
       "      <th>Close</th>\n",
       "      <th>Volume</th>\n",
       "      <th>log_return</th>\n",
       "      <th>weekly_mean</th>\n",
       "      <th>biweekly_mean</th>\n",
       "      <th>monthly_mean</th>\n",
       "      <th>bimonthly_mean</th>\n",
       "      <th>...</th>\n",
       "      <th>Month4</th>\n",
       "      <th>Month5</th>\n",
       "      <th>Month6</th>\n",
       "      <th>Month7</th>\n",
       "      <th>Month8</th>\n",
       "      <th>Month9</th>\n",
       "      <th>Month10</th>\n",
       "      <th>Month11</th>\n",
       "      <th>Adj_close</th>\n",
       "      <th>log_returns</th>\n",
       "    </tr>\n",
       "  </thead>\n",
       "  <tbody>\n",
       "    <tr>\n",
       "      <th>0</th>\n",
       "      <td>0.328125</td>\n",
       "      <td>0.328125</td>\n",
       "      <td>0.323661</td>\n",
       "      <td>0.323661</td>\n",
       "      <td>6311200</td>\n",
       "      <td>-0.033959</td>\n",
       "      <td>-0.010751</td>\n",
       "      <td>-0.002727</td>\n",
       "      <td>-0.003484</td>\n",
       "      <td>0.000000</td>\n",
       "      <td>...</td>\n",
       "      <td>0</td>\n",
       "      <td>0</td>\n",
       "      <td>0</td>\n",
       "      <td>0</td>\n",
       "      <td>0</td>\n",
       "      <td>0</td>\n",
       "      <td>0</td>\n",
       "      <td>1</td>\n",
       "      <td>0.014504</td>\n",
       "      <td>NaN</td>\n",
       "    </tr>\n",
       "    <tr>\n",
       "      <th>1</th>\n",
       "      <td>0.332589</td>\n",
       "      <td>0.334821</td>\n",
       "      <td>0.332589</td>\n",
       "      <td>0.332589</td>\n",
       "      <td>7828800</td>\n",
       "      <td>0.027272</td>\n",
       "      <td>-0.001337</td>\n",
       "      <td>0.000000</td>\n",
       "      <td>0.001299</td>\n",
       "      <td>0.000160</td>\n",
       "      <td>...</td>\n",
       "      <td>0</td>\n",
       "      <td>0</td>\n",
       "      <td>0</td>\n",
       "      <td>0</td>\n",
       "      <td>0</td>\n",
       "      <td>0</td>\n",
       "      <td>0</td>\n",
       "      <td>1</td>\n",
       "      <td>0.014905</td>\n",
       "      <td>NaN</td>\n",
       "    </tr>\n",
       "    <tr>\n",
       "      <th>2</th>\n",
       "      <td>0.348214</td>\n",
       "      <td>0.350446</td>\n",
       "      <td>0.348214</td>\n",
       "      <td>0.348214</td>\n",
       "      <td>16363200</td>\n",
       "      <td>0.045895</td>\n",
       "      <td>0.006513</td>\n",
       "      <td>0.003921</td>\n",
       "      <td>0.004145</td>\n",
       "      <td>0.001578</td>\n",
       "      <td>...</td>\n",
       "      <td>0</td>\n",
       "      <td>0</td>\n",
       "      <td>0</td>\n",
       "      <td>0</td>\n",
       "      <td>0</td>\n",
       "      <td>0</td>\n",
       "      <td>0</td>\n",
       "      <td>1</td>\n",
       "      <td>0.015605</td>\n",
       "      <td>NaN</td>\n",
       "    </tr>\n",
       "    <tr>\n",
       "      <th>3</th>\n",
       "      <td>0.377232</td>\n",
       "      <td>0.379464</td>\n",
       "      <td>0.377232</td>\n",
       "      <td>0.377232</td>\n",
       "      <td>12863200</td>\n",
       "      <td>0.080018</td>\n",
       "      <td>0.022517</td>\n",
       "      <td>0.013264</td>\n",
       "      <td>0.006967</td>\n",
       "      <td>0.002998</td>\n",
       "      <td>...</td>\n",
       "      <td>0</td>\n",
       "      <td>0</td>\n",
       "      <td>0</td>\n",
       "      <td>0</td>\n",
       "      <td>0</td>\n",
       "      <td>0</td>\n",
       "      <td>0</td>\n",
       "      <td>1</td>\n",
       "      <td>0.016905</td>\n",
       "      <td>NaN</td>\n",
       "    </tr>\n",
       "    <tr>\n",
       "      <th>4</th>\n",
       "      <td>0.408482</td>\n",
       "      <td>0.410714</td>\n",
       "      <td>0.408482</td>\n",
       "      <td>0.408482</td>\n",
       "      <td>17931200</td>\n",
       "      <td>0.079619</td>\n",
       "      <td>0.039769</td>\n",
       "      <td>0.018560</td>\n",
       "      <td>0.009153</td>\n",
       "      <td>0.003649</td>\n",
       "      <td>...</td>\n",
       "      <td>0</td>\n",
       "      <td>0</td>\n",
       "      <td>0</td>\n",
       "      <td>0</td>\n",
       "      <td>0</td>\n",
       "      <td>0</td>\n",
       "      <td>0</td>\n",
       "      <td>1</td>\n",
       "      <td>0.018306</td>\n",
       "      <td>NaN</td>\n",
       "    </tr>\n",
       "    <tr>\n",
       "      <th>5</th>\n",
       "      <td>0.392857</td>\n",
       "      <td>0.392857</td>\n",
       "      <td>0.390625</td>\n",
       "      <td>0.390625</td>\n",
       "      <td>14100800</td>\n",
       "      <td>-0.044742</td>\n",
       "      <td>0.037612</td>\n",
       "      <td>0.013431</td>\n",
       "      <td>0.007022</td>\n",
       "      <td>0.002584</td>\n",
       "      <td>...</td>\n",
       "      <td>0</td>\n",
       "      <td>0</td>\n",
       "      <td>0</td>\n",
       "      <td>0</td>\n",
       "      <td>0</td>\n",
       "      <td>0</td>\n",
       "      <td>0</td>\n",
       "      <td>1</td>\n",
       "      <td>0.017505</td>\n",
       "      <td>NaN</td>\n",
       "    </tr>\n",
       "    <tr>\n",
       "      <th>6</th>\n",
       "      <td>0.397321</td>\n",
       "      <td>0.399554</td>\n",
       "      <td>0.397321</td>\n",
       "      <td>0.397321</td>\n",
       "      <td>13456800</td>\n",
       "      <td>0.016993</td>\n",
       "      <td>0.035557</td>\n",
       "      <td>0.017110</td>\n",
       "      <td>0.007517</td>\n",
       "      <td>0.003140</td>\n",
       "      <td>...</td>\n",
       "      <td>0</td>\n",
       "      <td>0</td>\n",
       "      <td>0</td>\n",
       "      <td>0</td>\n",
       "      <td>0</td>\n",
       "      <td>0</td>\n",
       "      <td>0</td>\n",
       "      <td>1</td>\n",
       "      <td>0.017805</td>\n",
       "      <td>NaN</td>\n",
       "    </tr>\n",
       "    <tr>\n",
       "      <th>7</th>\n",
       "      <td>0.390625</td>\n",
       "      <td>0.390625</td>\n",
       "      <td>0.388393</td>\n",
       "      <td>0.388393</td>\n",
       "      <td>7224000</td>\n",
       "      <td>-0.022722</td>\n",
       "      <td>0.021833</td>\n",
       "      <td>0.014173</td>\n",
       "      <td>0.008683</td>\n",
       "      <td>0.003217</td>\n",
       "      <td>...</td>\n",
       "      <td>0</td>\n",
       "      <td>0</td>\n",
       "      <td>0</td>\n",
       "      <td>0</td>\n",
       "      <td>0</td>\n",
       "      <td>0</td>\n",
       "      <td>0</td>\n",
       "      <td>1</td>\n",
       "      <td>0.017405</td>\n",
       "      <td>NaN</td>\n",
       "    </tr>\n",
       "    <tr>\n",
       "      <th>8</th>\n",
       "      <td>0.390625</td>\n",
       "      <td>0.392857</td>\n",
       "      <td>0.390625</td>\n",
       "      <td>0.390625</td>\n",
       "      <td>7229600</td>\n",
       "      <td>0.005729</td>\n",
       "      <td>0.006975</td>\n",
       "      <td>0.014746</td>\n",
       "      <td>0.009285</td>\n",
       "      <td>0.003354</td>\n",
       "      <td>...</td>\n",
       "      <td>0</td>\n",
       "      <td>0</td>\n",
       "      <td>0</td>\n",
       "      <td>0</td>\n",
       "      <td>0</td>\n",
       "      <td>0</td>\n",
       "      <td>0</td>\n",
       "      <td>1</td>\n",
       "      <td>0.017505</td>\n",
       "      <td>NaN</td>\n",
       "    </tr>\n",
       "    <tr>\n",
       "      <th>9</th>\n",
       "      <td>0.377232</td>\n",
       "      <td>0.377232</td>\n",
       "      <td>0.372768</td>\n",
       "      <td>0.372768</td>\n",
       "      <td>9144800</td>\n",
       "      <td>-0.046778</td>\n",
       "      <td>-0.018304</td>\n",
       "      <td>0.010732</td>\n",
       "      <td>0.006072</td>\n",
       "      <td>0.001775</td>\n",
       "      <td>...</td>\n",
       "      <td>0</td>\n",
       "      <td>0</td>\n",
       "      <td>0</td>\n",
       "      <td>0</td>\n",
       "      <td>0</td>\n",
       "      <td>0</td>\n",
       "      <td>0</td>\n",
       "      <td>1</td>\n",
       "      <td>0.016705</td>\n",
       "      <td>NaN</td>\n",
       "    </tr>\n",
       "    <tr>\n",
       "      <th>10</th>\n",
       "      <td>0.379464</td>\n",
       "      <td>0.383929</td>\n",
       "      <td>0.379464</td>\n",
       "      <td>0.379464</td>\n",
       "      <td>6059200</td>\n",
       "      <td>0.017799</td>\n",
       "      <td>-0.005796</td>\n",
       "      <td>0.015908</td>\n",
       "      <td>0.005642</td>\n",
       "      <td>0.001443</td>\n",
       "      <td>...</td>\n",
       "      <td>0</td>\n",
       "      <td>0</td>\n",
       "      <td>0</td>\n",
       "      <td>0</td>\n",
       "      <td>0</td>\n",
       "      <td>0</td>\n",
       "      <td>0</td>\n",
       "      <td>1</td>\n",
       "      <td>0.017005</td>\n",
       "      <td>0.159083</td>\n",
       "    </tr>\n",
       "    <tr>\n",
       "      <th>11</th>\n",
       "      <td>0.395089</td>\n",
       "      <td>0.397321</td>\n",
       "      <td>0.395089</td>\n",
       "      <td>0.395089</td>\n",
       "      <td>8047200</td>\n",
       "      <td>0.040340</td>\n",
       "      <td>-0.001126</td>\n",
       "      <td>0.017215</td>\n",
       "      <td>0.008198</td>\n",
       "      <td>0.002703</td>\n",
       "      <td>...</td>\n",
       "      <td>0</td>\n",
       "      <td>0</td>\n",
       "      <td>0</td>\n",
       "      <td>0</td>\n",
       "      <td>0</td>\n",
       "      <td>0</td>\n",
       "      <td>0</td>\n",
       "      <td>1</td>\n",
       "      <td>0.017705</td>\n",
       "      <td>0.172150</td>\n",
       "    </tr>\n",
       "    <tr>\n",
       "      <th>12</th>\n",
       "      <td>0.395089</td>\n",
       "      <td>0.397321</td>\n",
       "      <td>0.395089</td>\n",
       "      <td>0.395089</td>\n",
       "      <td>13664000</td>\n",
       "      <td>0.000000</td>\n",
       "      <td>0.003418</td>\n",
       "      <td>0.012626</td>\n",
       "      <td>0.008198</td>\n",
       "      <td>0.002403</td>\n",
       "      <td>...</td>\n",
       "      <td>0</td>\n",
       "      <td>0</td>\n",
       "      <td>0</td>\n",
       "      <td>0</td>\n",
       "      <td>0</td>\n",
       "      <td>0</td>\n",
       "      <td>0</td>\n",
       "      <td>1</td>\n",
       "      <td>0.017705</td>\n",
       "      <td>0.126256</td>\n",
       "    </tr>\n",
       "    <tr>\n",
       "      <th>13</th>\n",
       "      <td>0.395089</td>\n",
       "      <td>0.395089</td>\n",
       "      <td>0.392857</td>\n",
       "      <td>0.392857</td>\n",
       "      <td>17813600</td>\n",
       "      <td>-0.005664</td>\n",
       "      <td>0.001139</td>\n",
       "      <td>0.004057</td>\n",
       "      <td>0.007609</td>\n",
       "      <td>0.002269</td>\n",
       "      <td>...</td>\n",
       "      <td>0</td>\n",
       "      <td>0</td>\n",
       "      <td>0</td>\n",
       "      <td>0</td>\n",
       "      <td>0</td>\n",
       "      <td>0</td>\n",
       "      <td>0</td>\n",
       "      <td>0</td>\n",
       "      <td>0.017605</td>\n",
       "      <td>0.040574</td>\n",
       "    </tr>\n",
       "    <tr>\n",
       "      <th>14</th>\n",
       "      <td>0.377232</td>\n",
       "      <td>0.377232</td>\n",
       "      <td>0.372768</td>\n",
       "      <td>0.372768</td>\n",
       "      <td>8960000</td>\n",
       "      <td>-0.052475</td>\n",
       "      <td>0.000000</td>\n",
       "      <td>-0.009152</td>\n",
       "      <td>0.005750</td>\n",
       "      <td>0.001319</td>\n",
       "      <td>...</td>\n",
       "      <td>0</td>\n",
       "      <td>0</td>\n",
       "      <td>0</td>\n",
       "      <td>0</td>\n",
       "      <td>0</td>\n",
       "      <td>0</td>\n",
       "      <td>0</td>\n",
       "      <td>0</td>\n",
       "      <td>0.016705</td>\n",
       "      <td>-0.091521</td>\n",
       "    </tr>\n",
       "  </tbody>\n",
       "</table>\n",
       "<p>15 rows × 105 columns</p>\n",
       "</div>"
      ],
      "text/plain": [
       "        Open      High       Low     Close    Volume  log_return  weekly_mean  \\\n",
       "0   0.328125  0.328125  0.323661  0.323661   6311200   -0.033959    -0.010751   \n",
       "1   0.332589  0.334821  0.332589  0.332589   7828800    0.027272    -0.001337   \n",
       "2   0.348214  0.350446  0.348214  0.348214  16363200    0.045895     0.006513   \n",
       "3   0.377232  0.379464  0.377232  0.377232  12863200    0.080018     0.022517   \n",
       "4   0.408482  0.410714  0.408482  0.408482  17931200    0.079619     0.039769   \n",
       "5   0.392857  0.392857  0.390625  0.390625  14100800   -0.044742     0.037612   \n",
       "6   0.397321  0.399554  0.397321  0.397321  13456800    0.016993     0.035557   \n",
       "7   0.390625  0.390625  0.388393  0.388393   7224000   -0.022722     0.021833   \n",
       "8   0.390625  0.392857  0.390625  0.390625   7229600    0.005729     0.006975   \n",
       "9   0.377232  0.377232  0.372768  0.372768   9144800   -0.046778    -0.018304   \n",
       "10  0.379464  0.383929  0.379464  0.379464   6059200    0.017799    -0.005796   \n",
       "11  0.395089  0.397321  0.395089  0.395089   8047200    0.040340    -0.001126   \n",
       "12  0.395089  0.397321  0.395089  0.395089  13664000    0.000000     0.003418   \n",
       "13  0.395089  0.395089  0.392857  0.392857  17813600   -0.005664     0.001139   \n",
       "14  0.377232  0.377232  0.372768  0.372768   8960000   -0.052475     0.000000   \n",
       "\n",
       "    biweekly_mean  monthly_mean  bimonthly_mean     ...       Month4  Month5  \\\n",
       "0       -0.002727     -0.003484        0.000000     ...            0       0   \n",
       "1        0.000000      0.001299        0.000160     ...            0       0   \n",
       "2        0.003921      0.004145        0.001578     ...            0       0   \n",
       "3        0.013264      0.006967        0.002998     ...            0       0   \n",
       "4        0.018560      0.009153        0.003649     ...            0       0   \n",
       "5        0.013431      0.007022        0.002584     ...            0       0   \n",
       "6        0.017110      0.007517        0.003140     ...            0       0   \n",
       "7        0.014173      0.008683        0.003217     ...            0       0   \n",
       "8        0.014746      0.009285        0.003354     ...            0       0   \n",
       "9        0.010732      0.006072        0.001775     ...            0       0   \n",
       "10       0.015908      0.005642        0.001443     ...            0       0   \n",
       "11       0.017215      0.008198        0.002703     ...            0       0   \n",
       "12       0.012626      0.008198        0.002403     ...            0       0   \n",
       "13       0.004057      0.007609        0.002269     ...            0       0   \n",
       "14      -0.009152      0.005750        0.001319     ...            0       0   \n",
       "\n",
       "    Month6  Month7  Month8  Month9  Month10  Month11  Adj_close  log_returns  \n",
       "0        0       0       0       0        0        1   0.014504          NaN  \n",
       "1        0       0       0       0        0        1   0.014905          NaN  \n",
       "2        0       0       0       0        0        1   0.015605          NaN  \n",
       "3        0       0       0       0        0        1   0.016905          NaN  \n",
       "4        0       0       0       0        0        1   0.018306          NaN  \n",
       "5        0       0       0       0        0        1   0.017505          NaN  \n",
       "6        0       0       0       0        0        1   0.017805          NaN  \n",
       "7        0       0       0       0        0        1   0.017405          NaN  \n",
       "8        0       0       0       0        0        1   0.017505          NaN  \n",
       "9        0       0       0       0        0        1   0.016705          NaN  \n",
       "10       0       0       0       0        0        1   0.017005     0.159083  \n",
       "11       0       0       0       0        0        1   0.017705     0.172150  \n",
       "12       0       0       0       0        0        1   0.017705     0.126256  \n",
       "13       0       0       0       0        0        0   0.017605     0.040574  \n",
       "14       0       0       0       0        0        0   0.016705    -0.091521  \n",
       "\n",
       "[15 rows x 105 columns]"
      ]
     },
     "execution_count": 43,
     "metadata": {},
     "output_type": "execute_result"
    }
   ],
   "source": [
    "# Step 1 Load Data\n",
    "df = pd.read_csv('AAPL.csv')\n",
    "df = df.drop(['Date','Unnamed: 0'],axis=1)\n",
    "df['log_returns'] = np.log(df['Adj_close'])- np.log(df['Adj_close'].shift(10))\n",
    "df.head(15)"
   ]
  },
  {
   "cell_type": "code",
   "execution_count": 44,
   "metadata": {},
   "outputs": [
    {
     "name": "stderr",
     "output_type": "stream",
     "text": [
      "C:\\Users\\Aron\\Anaconda3\\envs\\py36\\lib\\site-packages\\sklearn\\preprocessing\\data.py:323: DataConversionWarning: Data with input dtype int64, float64 were all converted to float64 by MinMaxScaler.\n",
      "  return self.partial_fit(X, y)\n"
     ]
    }
   ],
   "source": [
    "from sklearn.model_selection import TimeSeriesSplit\n",
    "from sklearn import preprocessing\n",
    "\n",
    "min_max_scaler = preprocessing.MinMaxScaler()\n",
    "temp = min_max_scaler.fit_transform(df)\n",
    "my_array = np.array(temp)\n",
    "\n",
    "\n",
    "\n",
    "X = my_array[:, :-1]\n",
    "Y = my_array[:, -1]\n",
    "x_train, x_test = X[10:math.floor(len(X)*0.8)], X[math.ceil(len(X)*0.8):-1]\n",
    "y_train, y_test = Y[10:math.floor(len(X)*0.8)], Y[math.ceil(len(X)*0.8):-1]\n",
    "x_train = np.reshape(x_train, (x_train.shape[0], x_train.shape[1], 1))\n",
    "x_test = np.reshape(x_test, (x_test.shape[0], x_test.shape[1], 1))  "
   ]
  },
  {
   "cell_type": "code",
   "execution_count": 45,
   "metadata": {},
   "outputs": [
    {
     "name": "stderr",
     "output_type": "stream",
     "text": [
      "C:\\Users\\Aron\\Anaconda3\\envs\\py36\\lib\\site-packages\\ipykernel_launcher.py:7: UserWarning: The `input_dim` and `input_length` arguments in recurrent layers are deprecated. Use `input_shape` instead.\n",
      "  import sys\n",
      "C:\\Users\\Aron\\Anaconda3\\envs\\py36\\lib\\site-packages\\ipykernel_launcher.py:7: UserWarning: Update your `LSTM` call to the Keras 2 API: `LSTM(return_sequences=True, input_shape=(None, 1), units=50)`\n",
      "  import sys\n"
     ]
    },
    {
     "name": "stdout",
     "output_type": "stream",
     "text": [
      "compilation time :  0.03956007957458496\n"
     ]
    },
    {
     "name": "stderr",
     "output_type": "stream",
     "text": [
      "C:\\Users\\Aron\\Anaconda3\\envs\\py36\\lib\\site-packages\\ipykernel_launcher.py:16: UserWarning: Update your `Dense` call to the Keras 2 API: `Dense(units=1)`\n",
      "  app.launch_new_instance()\n"
     ]
    }
   ],
   "source": [
    "# Step 2 Build Model\n",
    "model3 = Sequential()\n",
    "\n",
    "model3.add(LSTM(\n",
    "    input_dim=1,\n",
    "    output_dim=50,\n",
    "    return_sequences=True))\n",
    "model3.add(Dropout(0.4))\n",
    "\n",
    "model3.add(LSTM(\n",
    "    100,\n",
    "    return_sequences=False))\n",
    "model3.add(Dropout(0.4))\n",
    "\n",
    "model3.add(Dense(\n",
    "    output_dim=1))\n",
    "model3.add(Activation('linear'))\n",
    "\n",
    "start = time.time()\n",
    "model3.compile(loss='mse', optimizer='rmsprop')\n",
    "print ('compilation time : ', time.time() - start)"
   ]
  },
  {
   "cell_type": "code",
   "execution_count": 47,
   "metadata": {},
   "outputs": [
    {
     "name": "stderr",
     "output_type": "stream",
     "text": [
      "C:\\Users\\Aron\\Anaconda3\\envs\\py36\\lib\\site-packages\\ipykernel_launcher.py:6: UserWarning: The `nb_epoch` argument in `fit` has been renamed `epochs`.\n",
      "  \n"
     ]
    },
    {
     "name": "stdout",
     "output_type": "stream",
     "text": [
      "Train on 6898 samples, validate on 364 samples\n",
      "Epoch 1/10\n",
      "6898/6898 [==============================] - 16s 2ms/step - loss: 0.3977 - val_loss: 0.3277\n",
      "Epoch 2/10\n",
      "6898/6898 [==============================] - 16s 2ms/step - loss: 0.3230 - val_loss: 0.2366\n",
      "Epoch 3/10\n",
      "6898/6898 [==============================] - 16s 2ms/step - loss: 0.2344 - val_loss: 0.0782\n",
      "Epoch 4/10\n",
      "6898/6898 [==============================] - 14s 2ms/step - loss: 0.0805 - val_loss: 1.9355\n",
      "Epoch 5/10\n",
      "6898/6898 [==============================] - 15s 2ms/step - loss: 1.9760 - val_loss: 0.1247\n",
      "Epoch 6/10\n",
      "6898/6898 [==============================] - 15s 2ms/step - loss: 0.1258 - val_loss: 0.1148\n",
      "Epoch 7/10\n",
      "6898/6898 [==============================] - 14s 2ms/step - loss: 0.1164 - val_loss: 0.1050\n",
      "Epoch 8/10\n",
      "6898/6898 [==============================] - 14s 2ms/step - loss: 0.1065 - val_loss: 0.0951\n",
      "Epoch 9/10\n",
      "6898/6898 [==============================] - 14s 2ms/step - loss: 0.0968 - val_loss: 0.0850\n",
      "Epoch 10/10\n",
      "6898/6898 [==============================] - 14s 2ms/step - loss: 0.0874 - val_loss: 0.0748\n"
     ]
    },
    {
     "data": {
      "text/plain": [
       "<keras.callbacks.History at 0x21d09d7b6a0>"
      ]
     },
     "execution_count": 47,
     "metadata": {},
     "output_type": "execute_result"
    }
   ],
   "source": [
    "model3.fit(\n",
    "    x_train,\n",
    "    y_train,\n",
    "    batch_size=7271,\n",
    "    nb_epoch=10,\n",
    "    validation_split=0.05)"
   ]
  },
  {
   "cell_type": "code",
   "execution_count": 48,
   "metadata": {},
   "outputs": [
    {
     "data": {
      "image/png": "[encoded data removed]",
      "text/plain": [
       "<Figure size 432x288 with 1 Axes>"
      ]
     },
     "metadata": {
      "needs_background": "light"
     },
     "output_type": "display_data"
    }
   ],
   "source": [
    "predictions_returns_2week = np.array(predict_sequences_multiple(model3, x_test, 50, 1)).flatten()\n",
    "\n",
    "# Convert everything back into prices\n",
    "r0 = np.array(df['log_return'])[-len(predictions_returns_2week):]\n",
    "p0 = np.array(df['Adj_close'])[-len(predictions_returns_2week):]\n",
    "actual_prices = p0 * (np.exp((r0*y_test )))\n",
    "predictions_2week = p0 * (np.exp(r0*predictions_returns_2week))\n",
    "\n",
    "# Step 4 - Plot the predictions!\n",
    "fig = plt.figure()\n",
    "ax = fig.add_subplot(111)\n",
    "ax.plot(actual_prices, label='True Data')\n",
    "#Pad the list of predictions to shift it in the graph to it's correct start\n",
    "ax.plot(predictions_2week, label='Prediction')\n",
    "plt.legend()\n",
    "plt.show()"
   ]
  },
  {
   "cell_type": "markdown",
   "metadata": {},
   "source": [
    "Month"
   ]
  },
  {
   "cell_type": "code",
   "execution_count": 49,
   "metadata": {},
   "outputs": [
    {
     "data": {
      "text/html": [
       "<div>\n",
       "<style scoped>\n",
       "    .dataframe tbody tr th:only-of-type {\n",
       "        vertical-align: middle;\n",
       "    }\n",
       "\n",
       "    .dataframe tbody tr th {\n",
       "        vertical-align: top;\n",
       "    }\n",
       "\n",
       "    .dataframe thead th {\n",
       "        text-align: right;\n",
       "    }\n",
       "</style>\n",
       "<table border=\"1\" class=\"dataframe\">\n",
       "  <thead>\n",
       "    <tr style=\"text-align: right;\">\n",
       "      <th></th>\n",
       "      <th>Open</th>\n",
       "      <th>High</th>\n",
       "      <th>Low</th>\n",
       "      <th>Close</th>\n",
       "      <th>Volume</th>\n",
       "      <th>log_return</th>\n",
       "      <th>weekly_mean</th>\n",
       "      <th>biweekly_mean</th>\n",
       "      <th>monthly_mean</th>\n",
       "      <th>bimonthly_mean</th>\n",
       "      <th>...</th>\n",
       "      <th>Month4</th>\n",
       "      <th>Month5</th>\n",
       "      <th>Month6</th>\n",
       "      <th>Month7</th>\n",
       "      <th>Month8</th>\n",
       "      <th>Month9</th>\n",
       "      <th>Month10</th>\n",
       "      <th>Month11</th>\n",
       "      <th>Adj_close</th>\n",
       "      <th>log_returns</th>\n",
       "    </tr>\n",
       "  </thead>\n",
       "  <tbody>\n",
       "    <tr>\n",
       "      <th>0</th>\n",
       "      <td>0.328125</td>\n",
       "      <td>0.328125</td>\n",
       "      <td>0.323661</td>\n",
       "      <td>0.323661</td>\n",
       "      <td>6311200</td>\n",
       "      <td>-0.033959</td>\n",
       "      <td>-0.010751</td>\n",
       "      <td>-0.002727</td>\n",
       "      <td>-0.003484</td>\n",
       "      <td>0.000000</td>\n",
       "      <td>...</td>\n",
       "      <td>0</td>\n",
       "      <td>0</td>\n",
       "      <td>0</td>\n",
       "      <td>0</td>\n",
       "      <td>0</td>\n",
       "      <td>0</td>\n",
       "      <td>0</td>\n",
       "      <td>1</td>\n",
       "      <td>0.014504</td>\n",
       "      <td>NaN</td>\n",
       "    </tr>\n",
       "    <tr>\n",
       "      <th>1</th>\n",
       "      <td>0.332589</td>\n",
       "      <td>0.334821</td>\n",
       "      <td>0.332589</td>\n",
       "      <td>0.332589</td>\n",
       "      <td>7828800</td>\n",
       "      <td>0.027272</td>\n",
       "      <td>-0.001337</td>\n",
       "      <td>0.000000</td>\n",
       "      <td>0.001299</td>\n",
       "      <td>0.000160</td>\n",
       "      <td>...</td>\n",
       "      <td>0</td>\n",
       "      <td>0</td>\n",
       "      <td>0</td>\n",
       "      <td>0</td>\n",
       "      <td>0</td>\n",
       "      <td>0</td>\n",
       "      <td>0</td>\n",
       "      <td>1</td>\n",
       "      <td>0.014905</td>\n",
       "      <td>NaN</td>\n",
       "    </tr>\n",
       "    <tr>\n",
       "      <th>2</th>\n",
       "      <td>0.348214</td>\n",
       "      <td>0.350446</td>\n",
       "      <td>0.348214</td>\n",
       "      <td>0.348214</td>\n",
       "      <td>16363200</td>\n",
       "      <td>0.045895</td>\n",
       "      <td>0.006513</td>\n",
       "      <td>0.003921</td>\n",
       "      <td>0.004145</td>\n",
       "      <td>0.001578</td>\n",
       "      <td>...</td>\n",
       "      <td>0</td>\n",
       "      <td>0</td>\n",
       "      <td>0</td>\n",
       "      <td>0</td>\n",
       "      <td>0</td>\n",
       "      <td>0</td>\n",
       "      <td>0</td>\n",
       "      <td>1</td>\n",
       "      <td>0.015605</td>\n",
       "      <td>NaN</td>\n",
       "    </tr>\n",
       "    <tr>\n",
       "      <th>3</th>\n",
       "      <td>0.377232</td>\n",
       "      <td>0.379464</td>\n",
       "      <td>0.377232</td>\n",
       "      <td>0.377232</td>\n",
       "      <td>12863200</td>\n",
       "      <td>0.080018</td>\n",
       "      <td>0.022517</td>\n",
       "      <td>0.013264</td>\n",
       "      <td>0.006967</td>\n",
       "      <td>0.002998</td>\n",
       "      <td>...</td>\n",
       "      <td>0</td>\n",
       "      <td>0</td>\n",
       "      <td>0</td>\n",
       "      <td>0</td>\n",
       "      <td>0</td>\n",
       "      <td>0</td>\n",
       "      <td>0</td>\n",
       "      <td>1</td>\n",
       "      <td>0.016905</td>\n",
       "      <td>NaN</td>\n",
       "    </tr>\n",
       "    <tr>\n",
       "      <th>4</th>\n",
       "      <td>0.408482</td>\n",
       "      <td>0.410714</td>\n",
       "      <td>0.408482</td>\n",
       "      <td>0.408482</td>\n",
       "      <td>17931200</td>\n",
       "      <td>0.079619</td>\n",
       "      <td>0.039769</td>\n",
       "      <td>0.018560</td>\n",
       "      <td>0.009153</td>\n",
       "      <td>0.003649</td>\n",
       "      <td>...</td>\n",
       "      <td>0</td>\n",
       "      <td>0</td>\n",
       "      <td>0</td>\n",
       "      <td>0</td>\n",
       "      <td>0</td>\n",
       "      <td>0</td>\n",
       "      <td>0</td>\n",
       "      <td>1</td>\n",
       "      <td>0.018306</td>\n",
       "      <td>NaN</td>\n",
       "    </tr>\n",
       "    <tr>\n",
       "      <th>5</th>\n",
       "      <td>0.392857</td>\n",
       "      <td>0.392857</td>\n",
       "      <td>0.390625</td>\n",
       "      <td>0.390625</td>\n",
       "      <td>14100800</td>\n",
       "      <td>-0.044742</td>\n",
       "      <td>0.037612</td>\n",
       "      <td>0.013431</td>\n",
       "      <td>0.007022</td>\n",
       "      <td>0.002584</td>\n",
       "      <td>...</td>\n",
       "      <td>0</td>\n",
       "      <td>0</td>\n",
       "      <td>0</td>\n",
       "      <td>0</td>\n",
       "      <td>0</td>\n",
       "      <td>0</td>\n",
       "      <td>0</td>\n",
       "      <td>1</td>\n",
       "      <td>0.017505</td>\n",
       "      <td>NaN</td>\n",
       "    </tr>\n",
       "    <tr>\n",
       "      <th>6</th>\n",
       "      <td>0.397321</td>\n",
       "      <td>0.399554</td>\n",
       "      <td>0.397321</td>\n",
       "      <td>0.397321</td>\n",
       "      <td>13456800</td>\n",
       "      <td>0.016993</td>\n",
       "      <td>0.035557</td>\n",
       "      <td>0.017110</td>\n",
       "      <td>0.007517</td>\n",
       "      <td>0.003140</td>\n",
       "      <td>...</td>\n",
       "      <td>0</td>\n",
       "      <td>0</td>\n",
       "      <td>0</td>\n",
       "      <td>0</td>\n",
       "      <td>0</td>\n",
       "      <td>0</td>\n",
       "      <td>0</td>\n",
       "      <td>1</td>\n",
       "      <td>0.017805</td>\n",
       "      <td>NaN</td>\n",
       "    </tr>\n",
       "    <tr>\n",
       "      <th>7</th>\n",
       "      <td>0.390625</td>\n",
       "      <td>0.390625</td>\n",
       "      <td>0.388393</td>\n",
       "      <td>0.388393</td>\n",
       "      <td>7224000</td>\n",
       "      <td>-0.022722</td>\n",
       "      <td>0.021833</td>\n",
       "      <td>0.014173</td>\n",
       "      <td>0.008683</td>\n",
       "      <td>0.003217</td>\n",
       "      <td>...</td>\n",
       "      <td>0</td>\n",
       "      <td>0</td>\n",
       "      <td>0</td>\n",
       "      <td>0</td>\n",
       "      <td>0</td>\n",
       "      <td>0</td>\n",
       "      <td>0</td>\n",
       "      <td>1</td>\n",
       "      <td>0.017405</td>\n",
       "      <td>NaN</td>\n",
       "    </tr>\n",
       "    <tr>\n",
       "      <th>8</th>\n",
       "      <td>0.390625</td>\n",
       "      <td>0.392857</td>\n",
       "      <td>0.390625</td>\n",
       "      <td>0.390625</td>\n",
       "      <td>7229600</td>\n",
       "      <td>0.005729</td>\n",
       "      <td>0.006975</td>\n",
       "      <td>0.014746</td>\n",
       "      <td>0.009285</td>\n",
       "      <td>0.003354</td>\n",
       "      <td>...</td>\n",
       "      <td>0</td>\n",
       "      <td>0</td>\n",
       "      <td>0</td>\n",
       "      <td>0</td>\n",
       "      <td>0</td>\n",
       "      <td>0</td>\n",
       "      <td>0</td>\n",
       "      <td>1</td>\n",
       "      <td>0.017505</td>\n",
       "      <td>NaN</td>\n",
       "    </tr>\n",
       "    <tr>\n",
       "      <th>9</th>\n",
       "      <td>0.377232</td>\n",
       "      <td>0.377232</td>\n",
       "      <td>0.372768</td>\n",
       "      <td>0.372768</td>\n",
       "      <td>9144800</td>\n",
       "      <td>-0.046778</td>\n",
       "      <td>-0.018304</td>\n",
       "      <td>0.010732</td>\n",
       "      <td>0.006072</td>\n",
       "      <td>0.001775</td>\n",
       "      <td>...</td>\n",
       "      <td>0</td>\n",
       "      <td>0</td>\n",
       "      <td>0</td>\n",
       "      <td>0</td>\n",
       "      <td>0</td>\n",
       "      <td>0</td>\n",
       "      <td>0</td>\n",
       "      <td>1</td>\n",
       "      <td>0.016705</td>\n",
       "      <td>NaN</td>\n",
       "    </tr>\n",
       "    <tr>\n",
       "      <th>10</th>\n",
       "      <td>0.379464</td>\n",
       "      <td>0.383929</td>\n",
       "      <td>0.379464</td>\n",
       "      <td>0.379464</td>\n",
       "      <td>6059200</td>\n",
       "      <td>0.017799</td>\n",
       "      <td>-0.005796</td>\n",
       "      <td>0.015908</td>\n",
       "      <td>0.005642</td>\n",
       "      <td>0.001443</td>\n",
       "      <td>...</td>\n",
       "      <td>0</td>\n",
       "      <td>0</td>\n",
       "      <td>0</td>\n",
       "      <td>0</td>\n",
       "      <td>0</td>\n",
       "      <td>0</td>\n",
       "      <td>0</td>\n",
       "      <td>1</td>\n",
       "      <td>0.017005</td>\n",
       "      <td>NaN</td>\n",
       "    </tr>\n",
       "    <tr>\n",
       "      <th>11</th>\n",
       "      <td>0.395089</td>\n",
       "      <td>0.397321</td>\n",
       "      <td>0.395089</td>\n",
       "      <td>0.395089</td>\n",
       "      <td>8047200</td>\n",
       "      <td>0.040340</td>\n",
       "      <td>-0.001126</td>\n",
       "      <td>0.017215</td>\n",
       "      <td>0.008198</td>\n",
       "      <td>0.002703</td>\n",
       "      <td>...</td>\n",
       "      <td>0</td>\n",
       "      <td>0</td>\n",
       "      <td>0</td>\n",
       "      <td>0</td>\n",
       "      <td>0</td>\n",
       "      <td>0</td>\n",
       "      <td>0</td>\n",
       "      <td>1</td>\n",
       "      <td>0.017705</td>\n",
       "      <td>NaN</td>\n",
       "    </tr>\n",
       "    <tr>\n",
       "      <th>12</th>\n",
       "      <td>0.395089</td>\n",
       "      <td>0.397321</td>\n",
       "      <td>0.395089</td>\n",
       "      <td>0.395089</td>\n",
       "      <td>13664000</td>\n",
       "      <td>0.000000</td>\n",
       "      <td>0.003418</td>\n",
       "      <td>0.012626</td>\n",
       "      <td>0.008198</td>\n",
       "      <td>0.002403</td>\n",
       "      <td>...</td>\n",
       "      <td>0</td>\n",
       "      <td>0</td>\n",
       "      <td>0</td>\n",
       "      <td>0</td>\n",
       "      <td>0</td>\n",
       "      <td>0</td>\n",
       "      <td>0</td>\n",
       "      <td>1</td>\n",
       "      <td>0.017705</td>\n",
       "      <td>NaN</td>\n",
       "    </tr>\n",
       "    <tr>\n",
       "      <th>13</th>\n",
       "      <td>0.395089</td>\n",
       "      <td>0.395089</td>\n",
       "      <td>0.392857</td>\n",
       "      <td>0.392857</td>\n",
       "      <td>17813600</td>\n",
       "      <td>-0.005664</td>\n",
       "      <td>0.001139</td>\n",
       "      <td>0.004057</td>\n",
       "      <td>0.007609</td>\n",
       "      <td>0.002269</td>\n",
       "      <td>...</td>\n",
       "      <td>0</td>\n",
       "      <td>0</td>\n",
       "      <td>0</td>\n",
       "      <td>0</td>\n",
       "      <td>0</td>\n",
       "      <td>0</td>\n",
       "      <td>0</td>\n",
       "      <td>0</td>\n",
       "      <td>0.017605</td>\n",
       "      <td>NaN</td>\n",
       "    </tr>\n",
       "    <tr>\n",
       "      <th>14</th>\n",
       "      <td>0.377232</td>\n",
       "      <td>0.377232</td>\n",
       "      <td>0.372768</td>\n",
       "      <td>0.372768</td>\n",
       "      <td>8960000</td>\n",
       "      <td>-0.052475</td>\n",
       "      <td>0.000000</td>\n",
       "      <td>-0.009152</td>\n",
       "      <td>0.005750</td>\n",
       "      <td>0.001319</td>\n",
       "      <td>...</td>\n",
       "      <td>0</td>\n",
       "      <td>0</td>\n",
       "      <td>0</td>\n",
       "      <td>0</td>\n",
       "      <td>0</td>\n",
       "      <td>0</td>\n",
       "      <td>0</td>\n",
       "      <td>0</td>\n",
       "      <td>0.016705</td>\n",
       "      <td>NaN</td>\n",
       "    </tr>\n",
       "  </tbody>\n",
       "</table>\n",
       "<p>15 rows × 105 columns</p>\n",
       "</div>"
      ],
      "text/plain": [
       "        Open      High       Low     Close    Volume  log_return  weekly_mean  \\\n",
       "0   0.328125  0.328125  0.323661  0.323661   6311200   -0.033959    -0.010751   \n",
       "1   0.332589  0.334821  0.332589  0.332589   7828800    0.027272    -0.001337   \n",
       "2   0.348214  0.350446  0.348214  0.348214  16363200    0.045895     0.006513   \n",
       "3   0.377232  0.379464  0.377232  0.377232  12863200    0.080018     0.022517   \n",
       "4   0.408482  0.410714  0.408482  0.408482  17931200    0.079619     0.039769   \n",
       "5   0.392857  0.392857  0.390625  0.390625  14100800   -0.044742     0.037612   \n",
       "6   0.397321  0.399554  0.397321  0.397321  13456800    0.016993     0.035557   \n",
       "7   0.390625  0.390625  0.388393  0.388393   7224000   -0.022722     0.021833   \n",
       "8   0.390625  0.392857  0.390625  0.390625   7229600    0.005729     0.006975   \n",
       "9   0.377232  0.377232  0.372768  0.372768   9144800   -0.046778    -0.018304   \n",
       "10  0.379464  0.383929  0.379464  0.379464   6059200    0.017799    -0.005796   \n",
       "11  0.395089  0.397321  0.395089  0.395089   8047200    0.040340    -0.001126   \n",
       "12  0.395089  0.397321  0.395089  0.395089  13664000    0.000000     0.003418   \n",
       "13  0.395089  0.395089  0.392857  0.392857  17813600   -0.005664     0.001139   \n",
       "14  0.377232  0.377232  0.372768  0.372768   8960000   -0.052475     0.000000   \n",
       "\n",
       "    biweekly_mean  monthly_mean  bimonthly_mean     ...       Month4  Month5  \\\n",
       "0       -0.002727     -0.003484        0.000000     ...            0       0   \n",
       "1        0.000000      0.001299        0.000160     ...            0       0   \n",
       "2        0.003921      0.004145        0.001578     ...            0       0   \n",
       "3        0.013264      0.006967        0.002998     ...            0       0   \n",
       "4        0.018560      0.009153        0.003649     ...            0       0   \n",
       "5        0.013431      0.007022        0.002584     ...            0       0   \n",
       "6        0.017110      0.007517        0.003140     ...            0       0   \n",
       "7        0.014173      0.008683        0.003217     ...            0       0   \n",
       "8        0.014746      0.009285        0.003354     ...            0       0   \n",
       "9        0.010732      0.006072        0.001775     ...            0       0   \n",
       "10       0.015908      0.005642        0.001443     ...            0       0   \n",
       "11       0.017215      0.008198        0.002703     ...            0       0   \n",
       "12       0.012626      0.008198        0.002403     ...            0       0   \n",
       "13       0.004057      0.007609        0.002269     ...            0       0   \n",
       "14      -0.009152      0.005750        0.001319     ...            0       0   \n",
       "\n",
       "    Month6  Month7  Month8  Month9  Month10  Month11  Adj_close  log_returns  \n",
       "0        0       0       0       0        0        1   0.014504          NaN  \n",
       "1        0       0       0       0        0        1   0.014905          NaN  \n",
       "2        0       0       0       0        0        1   0.015605          NaN  \n",
       "3        0       0       0       0        0        1   0.016905          NaN  \n",
       "4        0       0       0       0        0        1   0.018306          NaN  \n",
       "5        0       0       0       0        0        1   0.017505          NaN  \n",
       "6        0       0       0       0        0        1   0.017805          NaN  \n",
       "7        0       0       0       0        0        1   0.017405          NaN  \n",
       "8        0       0       0       0        0        1   0.017505          NaN  \n",
       "9        0       0       0       0        0        1   0.016705          NaN  \n",
       "10       0       0       0       0        0        1   0.017005          NaN  \n",
       "11       0       0       0       0        0        1   0.017705          NaN  \n",
       "12       0       0       0       0        0        1   0.017705          NaN  \n",
       "13       0       0       0       0        0        0   0.017605          NaN  \n",
       "14       0       0       0       0        0        0   0.016705          NaN  \n",
       "\n",
       "[15 rows x 105 columns]"
      ]
     },
     "execution_count": 49,
     "metadata": {},
     "output_type": "execute_result"
    }
   ],
   "source": [
    "# Step 1 Load Data\n",
    "df = pd.read_csv('AAPL.csv')\n",
    "df = df.drop(['Date','Unnamed: 0'],axis=1)\n",
    "df['log_returns'] = np.log(df['Adj_close'])- np.log(df['Adj_close'].shift(21))\n",
    "df.head(15)"
   ]
  },
  {
   "cell_type": "code",
   "execution_count": 50,
   "metadata": {},
   "outputs": [
    {
     "name": "stderr",
     "output_type": "stream",
     "text": [
      "C:\\Users\\Aron\\Anaconda3\\envs\\py36\\lib\\site-packages\\sklearn\\preprocessing\\data.py:323: DataConversionWarning: Data with input dtype int64, float64 were all converted to float64 by MinMaxScaler.\n",
      "  return self.partial_fit(X, y)\n"
     ]
    }
   ],
   "source": [
    "from sklearn.model_selection import TimeSeriesSplit\n",
    "from sklearn import preprocessing\n",
    "\n",
    "min_max_scaler = preprocessing.MinMaxScaler()\n",
    "temp = min_max_scaler.fit_transform(df)\n",
    "my_array = np.array(temp)\n",
    "\n",
    "\n",
    "\n",
    "X = my_array[:, :-1]\n",
    "Y = my_array[:, -1]\n",
    "x_train, x_test = X[21:math.floor(len(X)*0.8)], X[math.ceil(len(X)*0.8):-1]\n",
    "y_train, y_test = Y[21:math.floor(len(X)*0.8)], Y[math.ceil(len(X)*0.8):-1]\n",
    "x_train = np.reshape(x_train, (x_train.shape[0], x_train.shape[1], 1))\n",
    "x_test = np.reshape(x_test, (x_test.shape[0], x_test.shape[1], 1))  "
   ]
  },
  {
   "cell_type": "code",
   "execution_count": 51,
   "metadata": {},
   "outputs": [
    {
     "name": "stderr",
     "output_type": "stream",
     "text": [
      "C:\\Users\\Aron\\Anaconda3\\envs\\py36\\lib\\site-packages\\ipykernel_launcher.py:7: UserWarning: The `input_dim` and `input_length` arguments in recurrent layers are deprecated. Use `input_shape` instead.\n",
      "  import sys\n",
      "C:\\Users\\Aron\\Anaconda3\\envs\\py36\\lib\\site-packages\\ipykernel_launcher.py:7: UserWarning: Update your `LSTM` call to the Keras 2 API: `LSTM(return_sequences=True, input_shape=(None, 1), units=50)`\n",
      "  import sys\n"
     ]
    },
    {
     "name": "stdout",
     "output_type": "stream",
     "text": [
      "compilation time :  0.037628173828125\n"
     ]
    },
    {
     "name": "stderr",
     "output_type": "stream",
     "text": [
      "C:\\Users\\Aron\\Anaconda3\\envs\\py36\\lib\\site-packages\\ipykernel_launcher.py:16: UserWarning: Update your `Dense` call to the Keras 2 API: `Dense(units=1)`\n",
      "  app.launch_new_instance()\n"
     ]
    }
   ],
   "source": [
    "# Step 2 Build Model\n",
    "model4 = Sequential()\n",
    "\n",
    "model4.add(LSTM(\n",
    "    input_dim=1,\n",
    "    output_dim=50,\n",
    "    return_sequences=True))\n",
    "model4.add(Dropout(0.4))\n",
    "\n",
    "model4.add(LSTM(\n",
    "    100,\n",
    "    return_sequences=False))\n",
    "model4.add(Dropout(0.4))\n",
    "\n",
    "model4.add(Dense(\n",
    "    output_dim=1))\n",
    "model4.add(Activation('linear'))\n",
    "\n",
    "start = time.time()\n",
    "model4.compile(loss='mse', optimizer='rmsprop')\n",
    "print ('compilation time : ', time.time() - start)"
   ]
  },
  {
   "cell_type": "code",
   "execution_count": 52,
   "metadata": {},
   "outputs": [
    {
     "name": "stderr",
     "output_type": "stream",
     "text": [
      "C:\\Users\\Aron\\Anaconda3\\envs\\py36\\lib\\site-packages\\ipykernel_launcher.py:6: UserWarning: The `nb_epoch` argument in `fit` has been renamed `epochs`.\n",
      "  \n"
     ]
    },
    {
     "name": "stdout",
     "output_type": "stream",
     "text": [
      "Train on 6888 samples, validate on 363 samples\n",
      "Epoch 1/10\n",
      "6888/6888 [==============================] - 16s 2ms/step - loss: 0.3870 - val_loss: 0.3099\n",
      "Epoch 2/10\n",
      "6888/6888 [==============================] - 14s 2ms/step - loss: 0.3011 - val_loss: 0.1849\n",
      "Epoch 3/10\n",
      "6888/6888 [==============================] - 15s 2ms/step - loss: 0.1804 - val_loss: 0.0129\n",
      "Epoch 4/10\n",
      "6888/6888 [==============================] - 15s 2ms/step - loss: 0.0271 - val_loss: 0.1683\n",
      "Epoch 5/10\n",
      "6888/6888 [==============================] - 15s 2ms/step - loss: 0.1653 - val_loss: 0.0777\n",
      "Epoch 6/10\n",
      "6888/6888 [==============================] - 15s 2ms/step - loss: 0.0788 - val_loss: 0.0035\n",
      "Epoch 7/10\n",
      "6888/6888 [==============================] - 14s 2ms/step - loss: 0.0123 - val_loss: 0.0029\n",
      "Epoch 8/10\n",
      "6888/6888 [==============================] - 15s 2ms/step - loss: 0.0143 - val_loss: 0.0215\n",
      "Epoch 9/10\n",
      "6888/6888 [==============================] - 14s 2ms/step - loss: 0.0271 - val_loss: 0.0137\n",
      "Epoch 10/10\n",
      "6888/6888 [==============================] - 13s 2ms/step - loss: 0.0272 - val_loss: 0.0605\n"
     ]
    },
    {
     "data": {
      "text/plain": [
       "<keras.callbacks.History at 0x21d0b0a7c88>"
      ]
     },
     "execution_count": 52,
     "metadata": {},
     "output_type": "execute_result"
    }
   ],
   "source": [
    "model4.fit(\n",
    "    x_train,\n",
    "    y_train,\n",
    "    batch_size=7271,\n",
    "    nb_epoch=10,\n",
    "    validation_split=0.05)"
   ]
  },
  {
   "cell_type": "code",
   "execution_count": 53,
   "metadata": {},
   "outputs": [
    {
     "data": {
      "image/png": "[encoded data removed]",
      "text/plain": [
       "<Figure size 432x288 with 1 Axes>"
      ]
     },
     "metadata": {
      "needs_background": "light"
     },
     "output_type": "display_data"
    }
   ],
   "source": [
    "predictions_returns_month = np.array(predict_sequences_multiple(model4, x_test, 50, 1)).flatten()\n",
    "# Convert everything back into prices\n",
    "r0 = np.array(df['log_return'])[-len(predictions_returns_month):]\n",
    "p0 = np.array(df['Adj_close'])[-len(predictions_returns_month):]\n",
    "actual_prices = p0 * (np.exp((r0*y_test )))\n",
    "predictions_month = p0 * (np.exp(r0*predictions_returns_month))\n",
    "\n",
    "# Step 4 - Plot the predictions!\n",
    "fig = plt.figure()\n",
    "ax = fig.add_subplot(111)\n",
    "ax.plot(actual_prices, label='True Data')\n",
    "#Pad the list of predictions to shift it in the graph to it's correct start\n",
    "ax.plot(predictions_month, label='Prediction')\n",
    "plt.legend()\n",
    "plt.show()"
   ]
  },
  {
   "cell_type": "markdown",
   "metadata": {},
   "source": [
    "Quarter"
   ]
  },
  {
   "cell_type": "code",
   "execution_count": 32,
   "metadata": {},
   "outputs": [],
   "source": [
    "# Step 1 Load Data\n",
    "df = pd.read_csv('AAPL.csv')\n",
    "df = df.drop(['Date','Unnamed: 0'],axis=1)\n",
    "df['log_returns'] = np.log(df['Adj_close'])- np.log(df['Adj_close'].shift(63))"
   ]
  },
  {
   "cell_type": "code",
   "execution_count": 33,
   "metadata": {},
   "outputs": [
    {
     "name": "stderr",
     "output_type": "stream",
     "text": [
      "C:\\Users\\Aron\\Anaconda3\\envs\\py36\\lib\\site-packages\\sklearn\\preprocessing\\data.py:323: DataConversionWarning: Data with input dtype int64, float64 were all converted to float64 by MinMaxScaler.\n",
      "  return self.partial_fit(X, y)\n"
     ]
    }
   ],
   "source": [
    "from sklearn.model_selection import TimeSeriesSplit\n",
    "from sklearn import preprocessing\n",
    "\n",
    "min_max_scaler = preprocessing.MinMaxScaler()\n",
    "temp = min_max_scaler.fit_transform(df)\n",
    "my_array = np.array(temp)\n",
    "\n",
    "X = my_array[:, :-1]\n",
    "Y = my_array[:, -1]\n",
    "x_train, x_test = X[63:math.floor(len(X)*0.8)], X[math.ceil(len(X)*0.8):-1]\n",
    "y_train, y_test = Y[63:math.floor(len(X)*0.8)], Y[math.ceil(len(X)*0.8):-1]\n",
    "x_train = np.reshape(x_train, (x_train.shape[0], x_train.shape[1], 1))\n",
    "x_test = np.reshape(x_test, (x_test.shape[0], x_test.shape[1], 1))  "
   ]
  },
  {
   "cell_type": "code",
   "execution_count": 34,
   "metadata": {},
   "outputs": [
    {
     "name": "stderr",
     "output_type": "stream",
     "text": [
      "C:\\Users\\Aron\\Anaconda3\\envs\\py36\\lib\\site-packages\\ipykernel_launcher.py:7: UserWarning: The `input_dim` and `input_length` arguments in recurrent layers are deprecated. Use `input_shape` instead.\n",
      "  import sys\n",
      "C:\\Users\\Aron\\Anaconda3\\envs\\py36\\lib\\site-packages\\ipykernel_launcher.py:7: UserWarning: Update your `LSTM` call to the Keras 2 API: `LSTM(return_sequences=True, input_shape=(None, 1), units=50)`\n",
      "  import sys\n"
     ]
    },
    {
     "name": "stdout",
     "output_type": "stream",
     "text": [
      "compilation time :  0.04089188575744629\n"
     ]
    },
    {
     "name": "stderr",
     "output_type": "stream",
     "text": [
      "C:\\Users\\Aron\\Anaconda3\\envs\\py36\\lib\\site-packages\\ipykernel_launcher.py:16: UserWarning: Update your `Dense` call to the Keras 2 API: `Dense(units=1)`\n",
      "  app.launch_new_instance()\n"
     ]
    }
   ],
   "source": [
    "# Step 2 Build Model\n",
    "model5 = Sequential()\n",
    "\n",
    "model5.add(LSTM(\n",
    "    input_dim=1,\n",
    "    output_dim=50,\n",
    "    return_sequences=True))\n",
    "model5.add(Dropout(0.4))\n",
    "\n",
    "model5.add(LSTM(\n",
    "    100,\n",
    "    return_sequences=False))\n",
    "model5.add(Dropout(0.4))\n",
    "\n",
    "model5.add(Dense(\n",
    "    output_dim=1))\n",
    "model5.add(Activation('linear'))\n",
    "\n",
    "start = time.time()\n",
    "model5.compile(loss='mse', optimizer='rmsprop')\n",
    "print ('compilation time : ', time.time() - start)"
   ]
  },
  {
   "cell_type": "code",
   "execution_count": 35,
   "metadata": {},
   "outputs": [
    {
     "name": "stderr",
     "output_type": "stream",
     "text": [
      "C:\\Users\\Aron\\Anaconda3\\envs\\py36\\lib\\site-packages\\ipykernel_launcher.py:6: UserWarning: The `nb_epoch` argument in `fit` has been renamed `epochs`.\n",
      "  \n"
     ]
    },
    {
     "name": "stdout",
     "output_type": "stream",
     "text": [
      "Train on 6848 samples, validate on 361 samples\n",
      "Epoch 1/10\n",
      "6848/6848 [==============================] - 20s 3ms/step - loss: 0.4288 - val_loss: 0.3858\n",
      "Epoch 2/10\n",
      "6848/6848 [==============================] - 16s 2ms/step - loss: 0.3485 - val_loss: 0.2782\n",
      "Epoch 3/10\n",
      "6848/6848 [==============================] - 15s 2ms/step - loss: 0.2497 - val_loss: 0.0812\n",
      "Epoch 4/10\n",
      "6848/6848 [==============================] - 14s 2ms/step - loss: 0.0744 - val_loss: 4.9120\n",
      "Epoch 5/10\n",
      "6848/6848 [==============================] - 14s 2ms/step - loss: 5.1487 - val_loss: 0.1408\n",
      "Epoch 6/10\n",
      "6848/6848 [==============================] - 13s 2ms/step - loss: 0.1258 - val_loss: 0.1318\n",
      "Epoch 7/10\n",
      "6848/6848 [==============================] - 13s 2ms/step - loss: 0.1180 - val_loss: 0.1227\n",
      "Epoch 8/10\n",
      "6848/6848 [==============================] - 15s 2ms/step - loss: 0.1098 - val_loss: 0.1136\n",
      "Epoch 9/10\n",
      "6848/6848 [==============================] - 14s 2ms/step - loss: 0.1019 - val_loss: 0.1045\n",
      "Epoch 10/10\n",
      "6848/6848 [==============================] - 14s 2ms/step - loss: 0.0943 - val_loss: 0.0953\n"
     ]
    },
    {
     "data": {
      "text/plain": [
       "<keras.callbacks.History at 0x21d069af0b8>"
      ]
     },
     "execution_count": 35,
     "metadata": {},
     "output_type": "execute_result"
    }
   ],
   "source": [
    "model5.fit(\n",
    "    x_train,\n",
    "    y_train,\n",
    "    batch_size=7271,\n",
    "    nb_epoch=10,\n",
    "    validation_split=0.05)"
   ]
  },
  {
   "cell_type": "code",
   "execution_count": 38,
   "metadata": {},
   "outputs": [
    {
     "data": {
      "image/png": "[encoded data removed]",
      "text/plain": [
       "<Figure size 432x288 with 1 Axes>"
      ]
     },
     "metadata": {
      "needs_background": "light"
     },
     "output_type": "display_data"
    }
   ],
   "source": [
    "predictions_returns_4month = np.array(predict_sequences_multiple(model5, x_test, 50, 1)).flatten()\n",
    "# Convert everything back into prices\n",
    "r0 = np.array(df['log_return'])[-len(predictions_returns_4month):]\n",
    "p0 = np.array(df['Adj_close'])[-len(predictions_returns_4month):]\n",
    "actual_prices = p0 * (np.exp((r0*y_test )))\n",
    "predictions_4month = p0 * (np.exp(r0*predictions_returns_4month))\n",
    "\n",
    "# Step 4 - Plot the predictions!\n",
    "fig = plt.figure()\n",
    "ax = fig.add_subplot(111)\n",
    "ax.plot(actual_prices, label='True Data')\n",
    "#Pad the list of predictions to shift it in the graph to it's correct start\n",
    "ax.plot(predictions_4month, label='Prediction')\n",
    "plt.legend()\n",
    "plt.show()"
   ]
  },
  {
   "cell_type": "code",
   "execution_count": 54,
   "metadata": {},
   "outputs": [],
   "source": [
    "from sklearn.metrics import mean_squared_error\n",
    "from math import sqrt\n",
    "\n",
    "rms_day = sqrt(mean_squared_error(actual_prices, predictions_day))\n",
    "rms_week = sqrt(mean_squared_error(actual_prices, predictions_week))\n",
    "rms_2week = sqrt(mean_squared_error(actual_prices, predictions_2week))\n",
    "rms_month = sqrt(mean_squared_error(actual_prices, predictions_month))\n",
    "rms_quarter = sqrt(mean_squared_error(actual_prices, predictions_4month))"
   ]
  },
  {
   "cell_type": "code",
   "execution_count": 55,
   "metadata": {},
   "outputs": [
    {
     "name": "stdout",
     "output_type": "stream",
     "text": [
      "0.198003045904195\n",
      "0.7782777575577259\n",
      "0.310520235159872\n",
      "0.2708482848362032\n",
      "0.29288112422562845\n"
     ]
    }
   ],
   "source": [
    "print(rms_day)\n",
    "print(rms_week)\n",
    "print(rms_2week)\n",
    "print(rms_month)\n",
    "print(rms_quarter)"
   ]
  },
  {
   "cell_type": "code",
   "execution_count": 56,
   "metadata": {},
   "outputs": [],
   "source": [
    "def smape(A, F):\n",
    "    return 100/len(A) * np.sum(2 * np.abs(F - A) / (np.abs(A) + np.abs(F)))"
   ]
  },
  {
   "cell_type": "code",
   "execution_count": 57,
   "metadata": {},
   "outputs": [],
   "source": [
    "smape_day = smape(actual_prices, predictions_day)\n",
    "smape_week = smape(actual_prices, predictions_week)\n",
    "smape_2week = smape(actual_prices, predictions_2week)\n",
    "smape_month = smape(actual_prices, predictions_month)\n",
    "smape_quarter = smape(actual_prices, predictions_4month)"
   ]
  },
  {
   "cell_type": "code",
   "execution_count": 58,
   "metadata": {},
   "outputs": [
    {
     "name": "stdout",
     "output_type": "stream",
     "text": [
      "0.1777036326147246\n",
      "0.689794282019644\n",
      "0.27907948989494724\n",
      "0.24426364319872915\n",
      "0.26270481388102074\n"
     ]
    }
   ],
   "source": [
    "print(smape_day)\n",
    "print(smape_week)\n",
    "print(smape_2week)\n",
    "print(smape_month)\n",
    "print(smape_quarter)"
   ]
  },
  {
   "cell_type": "code",
   "execution_count": null,
   "metadata": {},
   "outputs": [],
   "source": []
  }
 ],
 "metadata": {
  "kernelspec": {
   "display_name": "Python 3",
   "language": "python",
   "name": "python3"
  },
  "language_info": {
   "codemirror_mode": {
    "name": "ipython",
    "version": 3
   },
   "file_extension": ".py",
   "mimetype": "text/x-python",
   "name": "python",
   "nbconvert_exporter": "python",
   "pygments_lexer": "ipython3",
   "version": "3.6.6"
  },
  "name": "MIE1628_Project",
  "notebookId": 3343521760539914
 },
 "nbformat": 4,
 "nbformat_minor": 1
}
